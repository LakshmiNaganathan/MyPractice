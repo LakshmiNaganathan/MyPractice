{
 "cells": [
  {
   "cell_type": "code",
   "execution_count": 1,
   "id": "a8863e7f",
   "metadata": {},
   "outputs": [
    {
     "name": "stdout",
     "output_type": "stream",
     "text": [
      "Prime numbers between 1 and 10 are:\n",
      "2\n",
      "3\n",
      "5\n",
      "7\n"
     ]
    }
   ],
   "source": [
    "# print all prime numbers between 1 and 10\n",
    "'''prime number is divisible only by 1 and itself'''\n",
    "num1=1\n",
    "num2=10\n",
    "\n",
    "print(\"Prime numbers between 1 and 10 are:\")\n",
    "for num in range(num1,num2+1):\n",
    "    if num > 1:\n",
    "        for i in range(2,num):\n",
    "            if (num % i) == 0:\n",
    "                break\n",
    "        else:\n",
    "            print(num)"
   ]
  },
  {
   "cell_type": "code",
   "execution_count": 8,
   "id": "efe43047",
   "metadata": {},
   "outputs": [
    {
     "name": "stdout",
     "output_type": "stream",
     "text": [
      "Enter a number:5\n",
      "Factorial of 5 is: 120\n"
     ]
    }
   ],
   "source": [
    "# find factorial of number:\n",
    "'''5 -> factorial 5*4*3*2*1 = 120\n",
    "1*5=5\n",
    "2*5=10\n",
    "3*10=30\n",
    "4*30=120'''\n",
    "\n",
    "num=int(input(\"Enter a number:\"))\n",
    "f=1 #initializing variable f\n",
    "for i in range(1,num+1):\n",
    "    f=f*i # 1=1*1, 2=1*2, 6=2*3, 24=6*4, 120=24*5\n",
    "print(f\"Factorial of {num} is: {f}\")"
   ]
  },
  {
   "cell_type": "code",
   "execution_count": 9,
   "id": "bd7fa69e",
   "metadata": {},
   "outputs": [
    {
     "name": "stdout",
     "output_type": "stream",
     "text": [
      "Enter a number to get its table:3\n",
      "3*1=3\n",
      "3*2=6\n",
      "3*3=9\n",
      "3*4=12\n",
      "3*5=15\n",
      "3*6=18\n",
      "3*7=21\n",
      "3*8=24\n",
      "3*9=27\n",
      "3*10=30\n"
     ]
    }
   ],
   "source": [
    "#Display multiplication table\n",
    "'''1*3=3\n",
    "2*3=6\n",
    "3*3=9....3*10=30'''\n",
    "\n",
    "num=int(input(\"Enter a number to get its table:\"))\n",
    "\n",
    "for i in range(1,11):\n",
    "    result=num*i\n",
    "    print(f\"{num}*{i}={result}\")"
   ]
  },
  {
   "cell_type": "code",
   "execution_count": 12,
   "id": "9f68a078",
   "metadata": {},
   "outputs": [
    {
     "name": "stdout",
     "output_type": "stream",
     "text": [
      "Name = xyz Age = 23\n"
     ]
    }
   ],
   "source": [
    "# blank class\n",
    "\n",
    "class a:\n",
    "    pass\n",
    "\n",
    "obj=a()\n",
    "obj.name='xyz'\n",
    "obj.age=\"23\"\n",
    "print(\"Name =\",obj.name,\"Age =\",obj.age)"
   ]
  },
  {
   "cell_type": "code",
   "execution_count": 256,
   "id": "8a6d57f8",
   "metadata": {},
   "outputs": [
    {
     "name": "stdout",
     "output_type": "stream",
     "text": [
      "Enter a number:5\n",
      "0\n",
      "1\n",
      "2\n",
      "3\n",
      "5\n"
     ]
    }
   ],
   "source": [
    "# Fibonacci sequence:\n",
    "\n",
    "inum=int(input(\"Enter a number:\"))\n",
    "n1=0\n",
    "n2=1\n",
    "nxt=0\n",
    "for i in range(1,inum+1):\n",
    "        print(nxt)\n",
    "        nxt=n1+n2\n",
    "       # print(nxt)\n",
    "        n1=n2\n",
    "        n2=nxt"
   ]
  },
  {
   "cell_type": "code",
   "execution_count": 38,
   "id": "00db661e",
   "metadata": {},
   "outputs": [
    {
     "name": "stdout",
     "output_type": "stream",
     "text": [
      "Enter a number:153\n",
      "153 is an Armstrong number.\n"
     ]
    }
   ],
   "source": [
    "#Armstrong number:\n",
    "'''123 = 1^3+2^3+3^3'''\n",
    "\n",
    "num=int(input(\"Enter a number:\"))\n",
    "str_num=str(num)\n",
    "len_num=len(str_num)\n",
    "x=0\n",
    "temp=0\n",
    "for d in str_num:\n",
    "    x = int(d)**len_num\n",
    "    temp+=x\n",
    "    \n",
    "if temp==num:    \n",
    "    print(f\"{temp} is an Armstrong number.\")\n",
    "else:\n",
    "    print(f\"{num} is not an Armstrong number.\")"
   ]
  },
  {
   "cell_type": "code",
   "execution_count": 40,
   "id": "8e199216",
   "metadata": {},
   "outputs": [
    {
     "name": "stdout",
     "output_type": "stream",
     "text": [
      "Enter a start number:10\n",
      "Enter a stop number:10000\n",
      "153 is an Armstrong number.\n",
      "370 is an Armstrong number.\n",
      "371 is an Armstrong number.\n",
      "407 is an Armstrong number.\n",
      "1634 is an Armstrong number.\n",
      "8208 is an Armstrong number.\n",
      "9474 is an Armstrong number.\n"
     ]
    }
   ],
   "source": [
    "#find armstrong number in interval:\n",
    "\n",
    "lower=int(input(\"Enter a start number:\"))\n",
    "upper=int(input(\"Enter a stop number:\"))\n",
    "\n",
    "for num in range(lower,upper+1):\n",
    "    str_num=str(num)\n",
    "    len_num=len(str_num)\n",
    "    x=0\n",
    "    temp=0\n",
    "    for d in str_num:\n",
    "        x = int(d)**len_num\n",
    "        temp+=x\n",
    "    \n",
    "    if temp==num:    \n",
    "        print(f\"{temp} is an Armstrong number.\")"
   ]
  },
  {
   "cell_type": "code",
   "execution_count": 42,
   "id": "d3274361",
   "metadata": {},
   "outputs": [
    {
     "name": "stdout",
     "output_type": "stream",
     "text": [
      "Enter a limit:10\n",
      "The sum of natural numbers is 55\n"
     ]
    }
   ],
   "source": [
    "#sum of natural numbers\n",
    "\n",
    "limit=int(input(\"Enter a limit:\"))\n",
    "N=0\n",
    "for i in range(0,limit+1):\n",
    "    N+=i\n",
    "\n",
    "print(f\"The sum of natural numbers is {N}\")"
   ]
  },
  {
   "cell_type": "code",
   "execution_count": 48,
   "id": "da1eed23",
   "metadata": {},
   "outputs": [
    {
     "name": "stdout",
     "output_type": "stream",
     "text": [
      "Enter number 1:14\n",
      "Enter number 2:16\n",
      "LCM of 14 and 16 is 112\n"
     ]
    }
   ],
   "source": [
    "#LCM of 2 numbers:\n",
    "max_num=0\n",
    "def lcm(a,b):\n",
    "    max_num=max(a,b)\n",
    "    while(True):\n",
    "        if max_num%a==0 and max_num%b==0:\n",
    "            lcm=max_num\n",
    "            break\n",
    "        max_num+=1\n",
    "    return lcm\n",
    "    \n",
    "num1=int(input(\"Enter number 1:\"))\n",
    "num2=int(input(\"Enter number 2:\"))\n",
    "print(f\"LCM of {num1} and {num2} is {lcm(num1,num2)}\")"
   ]
  },
  {
   "cell_type": "code",
   "execution_count": 50,
   "id": "edbaf7d7",
   "metadata": {},
   "outputs": [
    {
     "name": "stdout",
     "output_type": "stream",
     "text": [
      "Enter number 1:54\n",
      "Enter number 2:24\n",
      "HCF of 54 and 24 is 6\n"
     ]
    }
   ],
   "source": [
    "#HCF of 2 numbers:\n",
    "max_num=0\n",
    "def hcf(a,b):\n",
    "    min_num=min(a,b)\n",
    "    for i in range(1,min_num+1):\n",
    "        if a%i==0 and b%i==0:\n",
    "            hcf=i\n",
    "    return hcf\n",
    "    \n",
    "num1=int(input(\"Enter number 1:\"))\n",
    "num2=int(input(\"Enter number 2:\"))\n",
    "print(f\"HCF of {num1} and {num2} is {hcf(num1,num2)}\")"
   ]
  },
  {
   "cell_type": "code",
   "execution_count": 67,
   "id": "7ac1c789",
   "metadata": {},
   "outputs": [
    {
     "name": "stdout",
     "output_type": "stream",
     "text": [
      "Minimum of list is 2\n",
      "Maximum of list is 10\n",
      "[10, 9, 6, 4, 2]\n",
      "Second largest number is 9\n"
     ]
    }
   ],
   "source": [
    "# find minimum value in list:\n",
    "\n",
    "l=[9,10,2,6,4]\n",
    "\n",
    "minimum=min(l)\n",
    "print(f\"Minimum of list is {minimum}\")\n",
    "\n",
    "maximum=max(l)\n",
    "print(f\"Maximum of list is {maximum}\")\n",
    "\n",
    "l.sort(reverse=True)\n",
    "print(l)\n",
    "if l[1] < maximum:\n",
    "    print(f\"Second largest number is {l[1]}\")\n",
    "        "
   ]
  },
  {
   "cell_type": "code",
   "execution_count": 82,
   "id": "05bce236",
   "metadata": {},
   "outputs": [
    {
     "name": "stdout",
     "output_type": "stream",
     "text": [
      "Welcome, Lakshmi Iyer aged 35\n",
      "Student class called and overriding Parent Class with values Lakshmi Iyer 35\n"
     ]
    }
   ],
   "source": [
    "# Inheritance\n",
    "\n",
    "class Person():\n",
    "    def __init__(self,fname,lname):\n",
    "        self.firstname=fname\n",
    "        self.lastname=lname\n",
    "        \n",
    "    def printname(self):\n",
    "        print(f\"{self.firstname} {self.lastname}\")\n",
    "        \n",
    "class Student(Person):\n",
    "    def __init__(self,fname,lname,age):\n",
    "        super().__init__(fname,lname)\n",
    "        self.age=age\n",
    "        \n",
    "    def welcome(self):\n",
    "        print(f\"Welcome, {self.firstname} {self.lastname} aged {self.age}\")\n",
    "        \n",
    "    def printname(self): ##overriding the PArent class method\n",
    "        print(f\"Student class called and overriding Parent Class with values {self.firstname} {self.lastname} {self.age}\")\n",
    "        \n",
    "x=Student(\"Lakshmi\",\"Iyer\",35)\n",
    "x.welcome()\n",
    "x.printname()"
   ]
  },
  {
   "cell_type": "code",
   "execution_count": 86,
   "id": "70eb80b7",
   "metadata": {},
   "outputs": [
    {
     "name": "stdout",
     "output_type": "stream",
     "text": [
      "1\n",
      "2\n",
      "4\n",
      "5\n",
      "6\n"
     ]
    }
   ],
   "source": [
    "i = 0\n",
    "while i < 6:\n",
    "    i += 1\n",
    "    if i == 3:\n",
    "        continue\n",
    "    print(i)"
   ]
  },
  {
   "cell_type": "code",
   "execution_count": 161,
   "id": "cc44bb96",
   "metadata": {},
   "outputs": [
    {
     "name": "stdout",
     "output_type": "stream",
     "text": [
      "My name is Iyer\n"
     ]
    }
   ],
   "source": [
    "def func(**k):\n",
    "    print(\"My name is \"+ k[\"lname\"])\n",
    "    \n",
    "func(fname=\"Lakshmi\",lname=\"Iyer\")"
   ]
  },
  {
   "cell_type": "code",
   "execution_count": 103,
   "id": "3666c6eb",
   "metadata": {},
   "outputs": [
    {
     "name": "stdout",
     "output_type": "stream",
     "text": [
      "1\n",
      "2\n",
      "3\n",
      "4\n"
     ]
    }
   ],
   "source": [
    "## __iter__() and __next__():\n",
    "\n",
    "class Numbers:\n",
    "    def __iter__(self):\n",
    "        self.a = 1\n",
    "        return self\n",
    "    \n",
    "    def __next__(self):\n",
    "        if self.a<5:\n",
    "            x = self.a\n",
    "            self.a += 1\n",
    "            return x\n",
    "        else:\n",
    "            raise StopIteration(\"Iteration has been stopped\")\n",
    "            \n",
    "obj = Numbers()\n",
    "myIter = iter(obj)\n",
    "\n",
    "for i in myIter:\n",
    "    print(i)"
   ]
  },
  {
   "cell_type": "code",
   "execution_count": 110,
   "id": "0dfaf465",
   "metadata": {},
   "outputs": [
    {
     "name": "stdout",
     "output_type": "stream",
     "text": [
      "Enter the number of largest numbers from the list:3\n",
      "The largest 3 numbers in the list are [98, 56, 34]\n"
     ]
    }
   ],
   "source": [
    "## Find n largest numbers:\n",
    "def top_numbers(inp_list, n):\n",
    "    sorted_list = sorted(inp_list,reverse=True)\n",
    "    return sorted_list[:n]\n",
    "\n",
    "count=int(input(\"Enter the number of largest numbers from the list:\"))\n",
    "num_list=[23,12,56,34,10,7,98]\n",
    "\n",
    "print(f\"The largest {count} numbers in the list are {top_numbers(num_list,count)}\")    "
   ]
  },
  {
   "cell_type": "code",
   "execution_count": 111,
   "id": "3521327c",
   "metadata": {},
   "outputs": [],
   "source": [
    "import json"
   ]
  },
  {
   "cell_type": "code",
   "execution_count": 123,
   "id": "0f33cac0",
   "metadata": {},
   "outputs": [
    {
     "name": "stdout",
     "output_type": "stream",
     "text": [
      "{\n",
      "    \"Name\": \"Lakshmi\",\n",
      "    \"age\": 35,\n",
      "    \"brands\": {\n",
      "        \"Pants\": \"blissclub\",\n",
      "        \"tshirt\": \"Souled Store\"\n",
      "    },\n",
      "    \"children\": null,\n",
      "    \"degrees\": [\n",
      "        \"bcom\",\n",
      "        \"mba\",\n",
      "        \"gniit\"\n",
      "    ],\n",
      "    \"divorced\": false,\n",
      "    \"fav_colors\": [\n",
      "        \"blue\",\n",
      "        \"green\",\n",
      "        \"pink\"\n",
      "    ],\n",
      "    \"married\": true\n",
      "}\n"
     ]
    }
   ],
   "source": [
    "l = { \"Name\":\"Lakshmi\",\n",
    "     \"age\":35,\n",
    "     \"married\":True,\n",
    "     \"divorced\":False,\n",
    "     \"fav_colors\":['blue','green','pink'],\n",
    "     \"degrees\":('bcom','mba','gniit'),\n",
    "     \"children\":None,\n",
    "     \"brands\":{\"tshirt\":\"Souled Store\",\"Pants\":\"blissclub\"}\n",
    "}\n",
    "\n",
    "x = json.dumps(l,indent=4,sort_keys=True)\n",
    "print(x)"
   ]
  },
  {
   "cell_type": "code",
   "execution_count": 124,
   "id": "e845e632",
   "metadata": {},
   "outputs": [
    {
     "data": {
      "text/plain": [
       "{'Name': 'Lakshmi',\n",
       " 'age': 35,\n",
       " 'brands': {'Pants': 'blissclub', 'tshirt': 'Souled Store'},\n",
       " 'children': None,\n",
       " 'degrees': ['bcom', 'mba', 'gniit'],\n",
       " 'divorced': False,\n",
       " 'fav_colors': ['blue', 'green', 'pink'],\n",
       " 'married': True}"
      ]
     },
     "execution_count": 124,
     "metadata": {},
     "output_type": "execute_result"
    }
   ],
   "source": [
    "p=json.loads(x)\n",
    "p"
   ]
  },
  {
   "cell_type": "code",
   "execution_count": 125,
   "id": "abecc3c8",
   "metadata": {},
   "outputs": [
    {
     "data": {
      "text/plain": [
       "True"
      ]
     },
     "execution_count": 125,
     "metadata": {},
     "output_type": "execute_result"
    }
   ],
   "source": [
    "p[\"married\"]"
   ]
  },
  {
   "cell_type": "code",
   "execution_count": 126,
   "id": "e4139d38",
   "metadata": {},
   "outputs": [
    {
     "data": {
      "text/plain": [
       "35"
      ]
     },
     "execution_count": 126,
     "metadata": {},
     "output_type": "execute_result"
    }
   ],
   "source": [
    "p[\"age\"]"
   ]
  },
  {
   "cell_type": "code",
   "execution_count": 132,
   "id": "41d93ef6",
   "metadata": {},
   "outputs": [
    {
     "ename": "AttributeError",
     "evalue": "'str' object has no attribute 'start'",
     "output_type": "error",
     "traceback": [
      "\u001b[1;31m---------------------------------------------------------------------------\u001b[0m",
      "\u001b[1;31mAttributeError\u001b[0m                            Traceback (most recent call last)",
      "Cell \u001b[1;32mIn[132], line 1\u001b[0m\n\u001b[1;32m----> 1\u001b[0m p[\u001b[38;5;124m\"\u001b[39m\u001b[38;5;124mName\u001b[39m\u001b[38;5;124m\"\u001b[39m]\u001b[38;5;241m.\u001b[39mstart()\n",
      "\u001b[1;31mAttributeError\u001b[0m: 'str' object has no attribute 'start'"
     ]
    }
   ],
   "source": [
    "p[\"Name\"].start()"
   ]
  },
  {
   "cell_type": "code",
   "execution_count": 133,
   "id": "9da966d6",
   "metadata": {},
   "outputs": [],
   "source": [
    "import re"
   ]
  },
  {
   "cell_type": "code",
   "execution_count": 147,
   "id": "71e5fb4e",
   "metadata": {},
   "outputs": [],
   "source": [
    "str1=\"My name is John.\""
   ]
  },
  {
   "cell_type": "code",
   "execution_count": 153,
   "id": "04faa61b",
   "metadata": {},
   "outputs": [
    {
     "name": "stdout",
     "output_type": "stream",
     "text": [
      "<re.Match object; span=(11, 15), match='John'>\n",
      "(11, 15)\n",
      "My name is John.\n",
      "John\n",
      "11\n",
      "15\n"
     ]
    }
   ],
   "source": [
    "x=re.search(r\"\\bJo\\w+\",str1)\n",
    "print(x)\n",
    "print(x.span())\n",
    "print(x.string)\n",
    "print(x.group())\n",
    "print(x.start())\n",
    "print(x.end())"
   ]
  },
  {
   "cell_type": "code",
   "execution_count": 149,
   "id": "6b0a6caf",
   "metadata": {},
   "outputs": [
    {
     "name": "stdout",
     "output_type": "stream",
     "text": [
      "['Joh']\n"
     ]
    }
   ],
   "source": [
    "x=re.findall(r\"\\bJoh\",str1)\n",
    "print(x)"
   ]
  },
  {
   "cell_type": "code",
   "execution_count": 158,
   "id": "1c908529",
   "metadata": {},
   "outputs": [
    {
     "name": "stdout",
     "output_type": "stream",
     "text": [
      "Written successfully!\n"
     ]
    }
   ],
   "source": [
    "try:\n",
    "    f = open(\"demofile.txt\",'w')\n",
    "    try:\n",
    "        f.write(\"Lorum Ipsum written\")\n",
    "    except:\n",
    "        print(\"Something went wrong when writing to the file\")\n",
    "    finally:\n",
    "        f.close()\n",
    "except:\n",
    "    print(\"Something went wrong when opening the file\")\n",
    "else:\n",
    "    print(\"Written successfully!\")"
   ]
  },
  {
   "cell_type": "code",
   "execution_count": 170,
   "id": "0732efda",
   "metadata": {},
   "outputs": [
    {
     "name": "stdout",
     "output_type": "stream",
     "text": [
      "hello\n"
     ]
    }
   ],
   "source": [
    "a=\"hello\"\n",
    "if type(a) is str:\n",
    " print(a)"
   ]
  },
  {
   "cell_type": "code",
   "execution_count": 183,
   "id": "9f635fa7",
   "metadata": {},
   "outputs": [
    {
     "ename": "FileExistsError",
     "evalue": "[Errno 17] File exists: 'demofile1.txt'",
     "output_type": "error",
     "traceback": [
      "\u001b[1;31m---------------------------------------------------------------------------\u001b[0m",
      "\u001b[1;31mFileExistsError\u001b[0m                           Traceback (most recent call last)",
      "Cell \u001b[1;32mIn[183], line 1\u001b[0m\n\u001b[1;32m----> 1\u001b[0m f\u001b[38;5;241m=\u001b[39m\u001b[38;5;28mopen\u001b[39m(\u001b[38;5;124m\"\u001b[39m\u001b[38;5;124mdemofile1.txt\u001b[39m\u001b[38;5;124m\"\u001b[39m,\u001b[38;5;124m\"\u001b[39m\u001b[38;5;124mx\u001b[39m\u001b[38;5;124m\"\u001b[39m)\n",
      "File \u001b[1;32m~\\anaconda3\\Lib\\site-packages\\IPython\\core\\interactiveshell.py:286\u001b[0m, in \u001b[0;36m_modified_open\u001b[1;34m(file, *args, **kwargs)\u001b[0m\n\u001b[0;32m    279\u001b[0m \u001b[38;5;28;01mif\u001b[39;00m file \u001b[38;5;129;01min\u001b[39;00m {\u001b[38;5;241m0\u001b[39m, \u001b[38;5;241m1\u001b[39m, \u001b[38;5;241m2\u001b[39m}:\n\u001b[0;32m    280\u001b[0m     \u001b[38;5;28;01mraise\u001b[39;00m \u001b[38;5;167;01mValueError\u001b[39;00m(\n\u001b[0;32m    281\u001b[0m         \u001b[38;5;124mf\u001b[39m\u001b[38;5;124m\"\u001b[39m\u001b[38;5;124mIPython won\u001b[39m\u001b[38;5;124m'\u001b[39m\u001b[38;5;124mt let you open fd=\u001b[39m\u001b[38;5;132;01m{\u001b[39;00mfile\u001b[38;5;132;01m}\u001b[39;00m\u001b[38;5;124m by default \u001b[39m\u001b[38;5;124m\"\u001b[39m\n\u001b[0;32m    282\u001b[0m         \u001b[38;5;124m\"\u001b[39m\u001b[38;5;124mas it is likely to crash IPython. If you know what you are doing, \u001b[39m\u001b[38;5;124m\"\u001b[39m\n\u001b[0;32m    283\u001b[0m         \u001b[38;5;124m\"\u001b[39m\u001b[38;5;124myou can use builtins\u001b[39m\u001b[38;5;124m'\u001b[39m\u001b[38;5;124m open.\u001b[39m\u001b[38;5;124m\"\u001b[39m\n\u001b[0;32m    284\u001b[0m     )\n\u001b[1;32m--> 286\u001b[0m \u001b[38;5;28;01mreturn\u001b[39;00m io_open(file, \u001b[38;5;241m*\u001b[39margs, \u001b[38;5;241m*\u001b[39m\u001b[38;5;241m*\u001b[39mkwargs)\n",
      "\u001b[1;31mFileExistsError\u001b[0m: [Errno 17] File exists: 'demofile1.txt'"
     ]
    }
   ],
   "source": [
    "f=open(\"demofile1.txt\",\"x\")"
   ]
  },
  {
   "cell_type": "code",
   "execution_count": 173,
   "id": "d0811827",
   "metadata": {},
   "outputs": [],
   "source": [
    "f.write(\"hello! welcome to demo file.\")\n",
    "f.close()"
   ]
  },
  {
   "cell_type": "code",
   "execution_count": 179,
   "id": "1e032885",
   "metadata": {},
   "outputs": [
    {
     "data": {
      "text/plain": [
       "'hello! wel'"
      ]
     },
     "execution_count": 179,
     "metadata": {},
     "output_type": "execute_result"
    }
   ],
   "source": [
    "f1=open(\"demofile1.txt\",\"r\")\n",
    "f1.read(10)"
   ]
  },
  {
   "cell_type": "code",
   "execution_count": 180,
   "id": "8e6d7ae9",
   "metadata": {},
   "outputs": [],
   "source": [
    "f1.close()"
   ]
  },
  {
   "cell_type": "code",
   "execution_count": 185,
   "id": "061b9674",
   "metadata": {},
   "outputs": [],
   "source": [
    "f=open(\"demofile1.txt\",\"w\")\n",
    "f.write(\"overwriting existing content.\")\n",
    "f.close()"
   ]
  },
  {
   "cell_type": "code",
   "execution_count": 187,
   "id": "5888ac61",
   "metadata": {},
   "outputs": [
    {
     "data": {
      "text/plain": [
       "'overwriting existing content.'"
      ]
     },
     "execution_count": 187,
     "metadata": {},
     "output_type": "execute_result"
    }
   ],
   "source": [
    "f=open(\"demofile1.txt\",\"r\")\n",
    "f.read()"
   ]
  },
  {
   "cell_type": "code",
   "execution_count": 188,
   "id": "815c7264",
   "metadata": {},
   "outputs": [],
   "source": [
    "f=open(\"demofile2.txt\",\"a\")\n",
    "f.write(\"create file if not existing\")\n",
    "f.close()"
   ]
  },
  {
   "cell_type": "code",
   "execution_count": 193,
   "id": "7ef00818",
   "metadata": {},
   "outputs": [
    {
     "name": "stdout",
     "output_type": "stream",
     "text": [
      "create file if not existing\n"
     ]
    }
   ],
   "source": [
    "f=open(\"demofile2.txt\",\"r\")\n",
    "print(f.read())\n",
    "f.close()"
   ]
  },
  {
   "cell_type": "code",
   "execution_count": 194,
   "id": "d5df761c",
   "metadata": {},
   "outputs": [],
   "source": [
    "import os"
   ]
  },
  {
   "cell_type": "code",
   "execution_count": 195,
   "id": "33af17ae",
   "metadata": {},
   "outputs": [],
   "source": [
    "if os.path.exists(\"demofile2.txt\"):\n",
    "    os.remove(\"demofile2.txt\")\n",
    "else:\n",
    "    print(\"File does not exist.\")"
   ]
  },
  {
   "cell_type": "code",
   "execution_count": 198,
   "id": "307d6902",
   "metadata": {},
   "outputs": [
    {
     "data": {
      "text/plain": [
       "[0, 10, 20, 30, 40, 50, 60, 70, 80, 90]"
      ]
     },
     "execution_count": 198,
     "metadata": {},
     "output_type": "execute_result"
    }
   ],
   "source": [
    "num_list = [y for y in range(100) if y % 2 == 0 and y % 5 == 0]\n",
    "num_list"
   ]
  },
  {
   "cell_type": "code",
   "execution_count": 199,
   "id": "3c72cdb2",
   "metadata": {},
   "outputs": [
    {
     "name": "stdout",
     "output_type": "stream",
     "text": [
      "[[2, 4, 6, 8, 10], [3, 6, 9, 12, 15], [4, 8, 12, 16, 20]]\n"
     ]
    }
   ],
   "source": [
    "multiplication = [[i * j for j in range(1, 6)] for i in range(2, 5)]\n",
    "\n",
    "print(multiplication)"
   ]
  },
  {
   "cell_type": "code",
   "execution_count": 202,
   "id": "133470ec",
   "metadata": {},
   "outputs": [
    {
     "name": "stdout",
     "output_type": "stream",
     "text": [
      "[[2, 4, 6, 8, 10], [3, 6, 9, 12, 15], [4, 8, 12, 16, 20]]\n"
     ]
    }
   ],
   "source": [
    "multiplication = []\n",
    "\n",
    "for i in range(2, 5):\n",
    "    x=[]\n",
    "    for j in range(1, 6):\n",
    "        x.append(i * j)\n",
    "    multiplication.append(x)\n",
    "\n",
    "print(multiplication)"
   ]
  },
  {
   "cell_type": "code",
   "execution_count": 232,
   "id": "23e62e5d",
   "metadata": {},
   "outputs": [
    {
     "ename": "TypeError",
     "evalue": "'list' object is not callable",
     "output_type": "error",
     "traceback": [
      "\u001b[1;31m---------------------------------------------------------------------------\u001b[0m",
      "\u001b[1;31mTypeError\u001b[0m                                 Traceback (most recent call last)",
      "Cell \u001b[1;32mIn[232], line 3\u001b[0m\n\u001b[0;32m      1\u001b[0m my_list \u001b[38;5;241m=\u001b[39m [\u001b[38;5;241m1\u001b[39m, \u001b[38;5;241m5\u001b[39m, \u001b[38;5;241m4\u001b[39m, \u001b[38;5;241m6\u001b[39m, \u001b[38;5;241m8\u001b[39m, \u001b[38;5;241m11\u001b[39m, \u001b[38;5;241m3\u001b[39m, \u001b[38;5;241m12\u001b[39m]\n\u001b[1;32m----> 3\u001b[0m new_list \u001b[38;5;241m=\u001b[39m \u001b[38;5;28mlist\u001b[39m(\u001b[38;5;28mmap\u001b[39m(\u001b[38;5;28;01mlambda\u001b[39;00m x: x \u001b[38;5;241m*\u001b[39m \u001b[38;5;241m2\u001b[39m , my_list))\n\u001b[0;32m      5\u001b[0m \u001b[38;5;28mprint\u001b[39m(new_list)\n",
      "\u001b[1;31mTypeError\u001b[0m: 'list' object is not callable"
     ]
    }
   ],
   "source": [
    "my_list = [1, 5, 4, 6, 8, 11, 3, 12]\n",
    "\n",
    "new_list = list(map(lambda x: x * 2 , my_list))\n",
    "\n",
    "print(new_list)"
   ]
  },
  {
   "cell_type": "code",
   "execution_count": 235,
   "id": "c86c72c6",
   "metadata": {},
   "outputs": [
    {
     "name": "stdout",
     "output_type": "stream",
     "text": [
      "[1, 4, 9, 16, 25]\n"
     ]
    }
   ],
   "source": [
    "numbers=[1,2,3,4,5]\n",
    "# create a new list using list comprehension\n",
    "square_numbers = [num ** 2 for num in numbers]\n",
    "print(square_numbers)"
   ]
  },
  {
   "cell_type": "code",
   "execution_count": 262,
   "id": "4717fa5d",
   "metadata": {},
   "outputs": [
    {
     "name": "stdout",
     "output_type": "stream",
     "text": [
      "0\n",
      "1\n",
      "1\n",
      "2\n",
      "3\n",
      "5\n",
      "8\n",
      "13\n",
      "21\n",
      "34\n"
     ]
    }
   ],
   "source": [
    "def fibonacci_numbers(nums):\n",
    "    x, y = 0, 1\n",
    "    for b in range(nums):\n",
    "        if b < 1:\n",
    "            print(x)\n",
    "        else:\n",
    "            x, y = y, x+y\n",
    "            yield x\n",
    "\n",
    "    \n",
    "fiblist = fibonacci_numbers(10)\n",
    "\n",
    "for i in fiblist:\n",
    "    print(i)"
   ]
  },
  {
   "cell_type": "code",
   "execution_count": 240,
   "id": "ecb34010",
   "metadata": {},
   "outputs": [
    {
     "name": "stdout",
     "output_type": "stream",
     "text": [
      "[1, 4, 9, 16, 25]\n"
     ]
    }
   ],
   "source": [
    "squares_list = [num ** 2 for num in numbers]\n",
    "print(squares_list)"
   ]
  },
  {
   "cell_type": "code",
   "execution_count": 249,
   "id": "63fdcf99",
   "metadata": {},
   "outputs": [
    {
     "name": "stdout",
     "output_type": "stream",
     "text": [
      "<generator object <genexpr> at 0x000001437FAB6C20>\n"
     ]
    }
   ],
   "source": [
    "squares_generator = (i**2 for i in range(1,6))\n",
    "print(squares_generator)"
   ]
  },
  {
   "cell_type": "code",
   "execution_count": 250,
   "id": "01cf0f7e",
   "metadata": {},
   "outputs": [
    {
     "name": "stdout",
     "output_type": "stream",
     "text": [
      "[1, 4, 9, 16, 25]\n"
     ]
    }
   ],
   "source": [
    "list_j=[]\n",
    "for j in squares_generator:\n",
    "    list_j.append(j)\n",
    "\n",
    "print(list_j)"
   ]
  },
  {
   "cell_type": "code",
   "execution_count": 264,
   "id": "93c25502",
   "metadata": {},
   "outputs": [
    {
     "name": "stdout",
     "output_type": "stream",
     "text": [
      "1\n",
      "4\n",
      "9\n"
     ]
    }
   ],
   "source": [
    "def square(nums):\n",
    "    for num in nums:\n",
    "        yield num**2\n",
    "    \n",
    "s=square([1,2,3])\n",
    "for i in s:\n",
    "    print(i)"
   ]
  },
  {
   "cell_type": "code",
   "execution_count": 269,
   "id": "cc21b64a",
   "metadata": {},
   "outputs": [
    {
     "name": "stdout",
     "output_type": "stream",
     "text": [
      "['d', 'cc', 'aaa', 'aaaa', 'bbbbb']\n"
     ]
    }
   ],
   "source": [
    "def len_func(w):\n",
    "    return len(w)\n",
    "\n",
    "words=['aaa','aaaa','bbbbb','cc','d']\n",
    "\n",
    "words.sort(key=len_func)\n",
    "print(words)"
   ]
  },
  {
   "cell_type": "code",
   "execution_count": 270,
   "id": "5c7323c9",
   "metadata": {},
   "outputs": [
    {
     "name": "stdout",
     "output_type": "stream",
     "text": [
      "[{'car': 'Mitsubishi', 'year': 2000}, {'car': 'Ford', 'year': 2005}, {'car': 'VW', 'year': 2011}, {'car': 'BMW', 'year': 2019}]\n"
     ]
    }
   ],
   "source": [
    "def year_sort(d):\n",
    "    return d['year']\n",
    "\n",
    "cars = [\n",
    "  {'car': 'Ford', 'year': 2005},\n",
    "  {'car': 'Mitsubishi', 'year': 2000},\n",
    "  {'car': 'BMW', 'year': 2019},\n",
    "  {'car': 'VW', 'year': 2011}\n",
    "]\n",
    "\n",
    "cars.sort(key=year_sort)\n",
    "print(cars)"
   ]
  },
  {
   "cell_type": "code",
   "execution_count": 271,
   "id": "b33dbcc1",
   "metadata": {},
   "outputs": [
    {
     "name": "stdout",
     "output_type": "stream",
     "text": [
      "{'car': 'Ford', 'year': 2005}\n"
     ]
    }
   ],
   "source": [
    "dict={'car':'Ford','year':2005}\n",
    "print(dict)"
   ]
  },
  {
   "cell_type": "code",
   "execution_count": 272,
   "id": "d6417cc6",
   "metadata": {},
   "outputs": [
    {
     "data": {
      "text/plain": [
       "dict_items([('car', 'Ford'), ('year', 2005)])"
      ]
     },
     "execution_count": 272,
     "metadata": {},
     "output_type": "execute_result"
    }
   ],
   "source": [
    "dict.items()"
   ]
  },
  {
   "cell_type": "code",
   "execution_count": 273,
   "id": "ade9789a",
   "metadata": {},
   "outputs": [],
   "source": [
    "dict['color']='black'"
   ]
  },
  {
   "cell_type": "code",
   "execution_count": 274,
   "id": "34a545ea",
   "metadata": {},
   "outputs": [
    {
     "name": "stdout",
     "output_type": "stream",
     "text": [
      "{'car': 'Ford', 'year': 2005, 'color': 'black'}\n"
     ]
    }
   ],
   "source": [
    "print(dict)"
   ]
  },
  {
   "cell_type": "code",
   "execution_count": 275,
   "id": "1b257c70",
   "metadata": {},
   "outputs": [],
   "source": [
    "dict.update({'isHybrid':'yes'})"
   ]
  },
  {
   "cell_type": "code",
   "execution_count": 276,
   "id": "09cb5bd6",
   "metadata": {},
   "outputs": [
    {
     "name": "stdout",
     "output_type": "stream",
     "text": [
      "{'car': 'Ford', 'year': 2005, 'color': 'black', 'isHybrid': 'yes'}\n"
     ]
    }
   ],
   "source": [
    "print(dict)"
   ]
  },
  {
   "cell_type": "code",
   "execution_count": 289,
   "id": "003c5dbc",
   "metadata": {},
   "outputs": [
    {
     "name": "stdout",
     "output_type": "stream",
     "text": [
      "([1, 2], {'name': 'Lakshmi', 'age': 35}) {}\n",
      "(1, 2) {'c': 40, 'd': 50}\n"
     ]
    }
   ],
   "source": [
    "def example(*args,**kwargs):\n",
    "    print(args,kwargs)\n",
    "    \n",
    "example([1,2],{'name':\"Lakshmi\",'age':35})\n",
    "example(1,2,c=40,d=50)"
   ]
  },
  {
   "cell_type": "code",
   "execution_count": 301,
   "id": "cc7fb41b",
   "metadata": {},
   "outputs": [
    {
     "name": "stdout",
     "output_type": "stream",
     "text": [
      "['apple', 'banana', 'apple', 'chickoo', 'banana', 'grape', 'grape', 'kiwi']\n",
      "{'apple': 2, 'banana': 2, 'chickoo': 1, 'grape': 2, 'kiwi': 1}\n"
     ]
    }
   ],
   "source": [
    "## count no. of words appearing in a string using dictionary\n",
    "\n",
    "str1=\"apple banana apple chickoo banana grape grape kiwi\"\n",
    "l1=str1.split()\n",
    "print(l1)\n",
    "\n",
    "d={}\n",
    "for i in l1:\n",
    "    if i not in d.keys():\n",
    "        d[i]=1\n",
    "    else:\n",
    "        d[i]+=1\n",
    "print(d)\n",
    "    "
   ]
  },
  {
   "cell_type": "code",
   "execution_count": 318,
   "id": "42c031f8",
   "metadata": {},
   "outputs": [
    {
     "name": "stdout",
     "output_type": "stream",
     "text": [
      "['a', 's', 'h', 'h']\n",
      "{'s', 'a', 'h'}\n"
     ]
    }
   ],
   "source": [
    "## common letters in 2 strings\n",
    "\n",
    "str1=\"Lakshmih\"\n",
    "str2=\"Rajeshh\"\n",
    "my_set=set()\n",
    "common_list=[]\n",
    "for i in str1:\n",
    "    if i in str2:\n",
    "        common_list.append(i)\n",
    "\n",
    "my_set.update(common_list)\n",
    "print(common_list)\n",
    "print(my_set)"
   ]
  },
  {
   "cell_type": "code",
   "execution_count": 325,
   "id": "8cec1f05",
   "metadata": {},
   "outputs": [
    {
     "ename": "TypeError",
     "evalue": "'dict' object is not callable",
     "output_type": "error",
     "traceback": [
      "\u001b[1;31m---------------------------------------------------------------------------\u001b[0m",
      "\u001b[1;31mTypeError\u001b[0m                                 Traceback (most recent call last)",
      "Cell \u001b[1;32mIn[325], line 6\u001b[0m\n\u001b[0;32m      3\u001b[0m keys\u001b[38;5;241m=\u001b[39m[\u001b[38;5;124m'\u001b[39m\u001b[38;5;124ma\u001b[39m\u001b[38;5;124m'\u001b[39m,\u001b[38;5;124m'\u001b[39m\u001b[38;5;124mb\u001b[39m\u001b[38;5;124m'\u001b[39m,\u001b[38;5;124m'\u001b[39m\u001b[38;5;124mc\u001b[39m\u001b[38;5;124m'\u001b[39m]\n\u001b[0;32m      4\u001b[0m values\u001b[38;5;241m=\u001b[39m[\u001b[38;5;124m'\u001b[39m\u001b[38;5;124m1\u001b[39m\u001b[38;5;124m'\u001b[39m,\u001b[38;5;124m'\u001b[39m\u001b[38;5;124m2\u001b[39m\u001b[38;5;124m'\u001b[39m,\u001b[38;5;124m'\u001b[39m\u001b[38;5;124m3\u001b[39m\u001b[38;5;124m'\u001b[39m]\n\u001b[1;32m----> 6\u001b[0m result \u001b[38;5;241m=\u001b[39m \u001b[38;5;28mdict\u001b[39m(\u001b[38;5;28mzip\u001b[39m(keys,values))\n\u001b[0;32m      7\u001b[0m \u001b[38;5;28mprint\u001b[39m(result)\n",
      "\u001b[1;31mTypeError\u001b[0m: 'dict' object is not callable"
     ]
    }
   ],
   "source": [
    "#to convert 2 lists into ditionary\n",
    "\n",
    "list1=['a','b','c']\n",
    "list2=['1','2','3']\n",
    "\n",
    "result = dict(zip(list1,list2))\n",
    "print(result)\n",
    "    "
   ]
  },
  {
   "cell_type": "code",
   "execution_count": 328,
   "id": "7b520b73",
   "metadata": {},
   "outputs": [
    {
     "data": {
      "text/plain": [
       "{40: 'john', 45: '50'}"
      ]
     },
     "execution_count": 328,
     "metadata": {},
     "output_type": "execute_result"
    }
   ],
   "source": [
    "d = {40:\"john\", 45:\"50\"}\n",
    "d"
   ]
  },
  {
   "cell_type": "code",
   "execution_count": 329,
   "id": "1574754d",
   "metadata": {},
   "outputs": [
    {
     "data": {
      "text/plain": [
       "2"
      ]
     },
     "execution_count": 329,
     "metadata": {},
     "output_type": "execute_result"
    }
   ],
   "source": [
    "5//2"
   ]
  },
  {
   "cell_type": "code",
   "execution_count": 331,
   "id": "540a9227",
   "metadata": {},
   "outputs": [
    {
     "name": "stdout",
     "output_type": "stream",
     "text": [
      "someError has occured\n"
     ]
    }
   ],
   "source": [
    "try: \n",
    "    if '1' != 1: \n",
    "        raise \"someError\" \n",
    "    else: \n",
    "        print(\"someError has not occured\")\n",
    "except: \n",
    "    print (\"someError has occured\")"
   ]
  },
  {
   "cell_type": "code",
   "execution_count": 334,
   "id": "770e30b0",
   "metadata": {},
   "outputs": [
    {
     "name": "stdout",
     "output_type": "stream",
     "text": [
      "10\n",
      "20\n",
      "30\n"
     ]
    }
   ],
   "source": [
    "# global_var is in the global namespace\n",
    "global_var = 10\n",
    "\n",
    "def outer_function():\n",
    "    #  outer_var is in the local namespace \n",
    "    outer_var = 20\n",
    "    \n",
    "    def inner_function():\n",
    "        #  inner_var is in the nested local namespace \n",
    "        inner_var = 30\n",
    "\n",
    "        print(inner_var)\n",
    "\n",
    "    print(outer_var)\n",
    "\n",
    "    inner_function()\n",
    "\n",
    "# print the value of the global variable\n",
    "print(global_var)\n",
    "\n",
    "# call the outer function and print local and nested local variables\n",
    "outer_function()"
   ]
  },
  {
   "cell_type": "code",
   "execution_count": 335,
   "id": "70e45399",
   "metadata": {},
   "outputs": [
    {
     "name": "stdout",
     "output_type": "stream",
     "text": [
      "0\n"
     ]
    }
   ],
   "source": [
    "print(5 * (2 // 3))"
   ]
  },
  {
   "cell_type": "code",
   "execution_count": 339,
   "id": "6f508fd5",
   "metadata": {},
   "outputs": [
    {
     "data": {
      "text/plain": [
       "0.6666666666666666"
      ]
     },
     "execution_count": 339,
     "metadata": {},
     "output_type": "execute_result"
    }
   ],
   "source": [
    "2/3"
   ]
  },
  {
   "cell_type": "code",
   "execution_count": 338,
   "id": "ee477db8",
   "metadata": {},
   "outputs": [
    {
     "data": {
      "text/plain": [
       "1.5"
      ]
     },
     "execution_count": 338,
     "metadata": {},
     "output_type": "execute_result"
    }
   ],
   "source": [
    "3/2"
   ]
  },
  {
   "cell_type": "code",
   "execution_count": 342,
   "id": "eba22c26",
   "metadata": {},
   "outputs": [
    {
     "name": "stdout",
     "output_type": "stream",
     "text": [
      "* * * * * \n",
      "* * * * * \n",
      "* * * * * \n",
      "* * * * * \n",
      "* * * * * \n"
     ]
    }
   ],
   "source": [
    "n=5\n",
    "\n",
    "for i in range(n):\n",
    "    for j in range(n):\n",
    "        print('*', end=' ')\n",
    "    print()"
   ]
  },
  {
   "cell_type": "code",
   "execution_count": 344,
   "id": "a18dd431",
   "metadata": {},
   "outputs": [
    {
     "name": "stdout",
     "output_type": "stream",
     "text": [
      "* \n",
      "* * \n",
      "* * * \n",
      "* * * * \n",
      "* * * * * \n"
     ]
    }
   ],
   "source": [
    "n=5\n",
    "\n",
    "for i in range(n):\n",
    "    for j in range(i+1):\n",
    "        print('*', end=' ')\n",
    "    print()"
   ]
  },
  {
   "cell_type": "code",
   "execution_count": 345,
   "id": "165b94dc",
   "metadata": {},
   "outputs": [
    {
     "name": "stdout",
     "output_type": "stream",
     "text": [
      "* * * * * \n",
      "* * * * \n",
      "* * * \n",
      "* * \n",
      "* \n"
     ]
    }
   ],
   "source": [
    "n=5\n",
    "\n",
    "for i in range(n):\n",
    "    for j in range(i,n):\n",
    "        print('*', end=' ')\n",
    "    print()"
   ]
  },
  {
   "cell_type": "code",
   "execution_count": 375,
   "id": "1d1316a0",
   "metadata": {},
   "outputs": [
    {
     "name": "stdout",
     "output_type": "stream",
     "text": [
      "     * \n",
      "    * * \n",
      "   * * * \n",
      "  * * * * \n",
      " * * * * * \n"
     ]
    }
   ],
   "source": [
    "n=5\n",
    "for i in range(n):\n",
    "    for j in range(i,n):\n",
    "        print('', end=' ')\n",
    "    for j in range(i+1):\n",
    "        print('*',end=' ')\n",
    "    print()"
   ]
  },
  {
   "cell_type": "code",
   "execution_count": 369,
   "id": "9fd8a060",
   "metadata": {},
   "outputs": [
    {
     "data": {
      "text/plain": [
       "range(4, 0, -1)"
      ]
     },
     "execution_count": 369,
     "metadata": {},
     "output_type": "execute_result"
    }
   ],
   "source": [
    "range(5 - 1, 0, -1)"
   ]
  },
  {
   "cell_type": "code",
   "execution_count": 374,
   "id": "c97a3939",
   "metadata": {},
   "outputs": [
    {
     "name": "stdout",
     "output_type": "stream",
     "text": [
      "4\n",
      "3\n",
      "2\n",
      "1\n"
     ]
    }
   ],
   "source": [
    "for i in range(4, 0,-1):\n",
    "    print(i)"
   ]
  },
  {
   "cell_type": "code",
   "execution_count": 376,
   "id": "3fa2210d",
   "metadata": {},
   "outputs": [
    {
     "name": "stdout",
     "output_type": "stream",
     "text": [
      "    *\n",
      "   **\n",
      "  ***\n",
      " ****\n",
      "*****\n"
     ]
    }
   ],
   "source": [
    "## right sided angled increasing * triangle\n",
    "n=5\n",
    "\n",
    "for i in range(n):\n",
    "    print(' '*(n-i-1)+'*'*(i+1))"
   ]
  },
  {
   "cell_type": "code",
   "execution_count": 377,
   "id": "595ce07b",
   "metadata": {},
   "outputs": [
    {
     "name": "stdout",
     "output_type": "stream",
     "text": [
      "*\n",
      "**\n",
      "***\n",
      "****\n",
      "*****\n"
     ]
    }
   ],
   "source": [
    "## left sided angled increasing * triangle\n",
    "n=5\n",
    "\n",
    "for i in range(n):\n",
    "    print('*'*(i+1))"
   ]
  },
  {
   "cell_type": "code",
   "execution_count": 379,
   "id": "49d4864b",
   "metadata": {},
   "outputs": [
    {
     "name": "stdout",
     "output_type": "stream",
     "text": [
      "*****\n",
      "****\n",
      "***\n",
      "**\n",
      "*\n"
     ]
    }
   ],
   "source": [
    "# Left sided angled decreasing * triangle\n",
    "n=5\n",
    "\n",
    "for i in range(n):\n",
    "    print('*'*(n-i))"
   ]
  },
  {
   "cell_type": "code",
   "execution_count": 384,
   "id": "b251bc58",
   "metadata": {},
   "outputs": [
    {
     "name": "stdout",
     "output_type": "stream",
     "text": [
      "*****\n",
      " ****\n",
      "  ***\n",
      "   **\n",
      "    *\n"
     ]
    }
   ],
   "source": [
    "# right sided angled decreasing * triangle\n",
    "n=5\n",
    "\n",
    "for i in range(n):\n",
    "    print(' '*(i) + '*'*(n-i))"
   ]
  },
  {
   "cell_type": "code",
   "execution_count": 389,
   "id": "01715477",
   "metadata": {},
   "outputs": [
    {
     "name": "stdout",
     "output_type": "stream",
     "text": [
      "    *\n",
      "   ***\n",
      "  *****\n",
      " *******\n",
      "*********\n"
     ]
    }
   ],
   "source": [
    "# equilateral triangle (left side decreasing ' ', right side increasing '*', left side increasing '*')\n",
    "\n",
    "n=5\n",
    "\n",
    "for i in range(n):\n",
    "    print(' '*(n-i-1)+'*'*(i)+'*'*(i+1))"
   ]
  },
  {
   "cell_type": "code",
   "execution_count": 392,
   "id": "5fcd12eb",
   "metadata": {},
   "outputs": [
    {
     "name": "stdout",
     "output_type": "stream",
     "text": [
      " *********\n",
      "  *******\n",
      "   *****\n",
      "    ***\n",
      "     *\n"
     ]
    }
   ],
   "source": [
    "# upside-down equilateral triangle (left side increasing ' ', right side decreasing '*',left side decreasing '*')\n",
    "\n",
    "n=5\n",
    "for i in range(n):\n",
    "    print(' '*(i+1)+'*'*(n-i)+'*'*(n-i-1))"
   ]
  },
  {
   "cell_type": "code",
   "execution_count": 400,
   "id": "17fd79fb",
   "metadata": {},
   "outputs": [
    {
     "name": "stdout",
     "output_type": "stream",
     "text": [
      "    *\n",
      "   ***\n",
      "  *****\n",
      " *******\n",
      "*********\n",
      " *******\n",
      "  *****\n",
      "   ***\n",
      "    *\n"
     ]
    }
   ],
   "source": [
    "## diamond shape (combine above 2 - 1 row)\n",
    "# left side decreasing ' ', right side increasing '*', left side increasing '*'\n",
    "# left side increasing ' ', right side decreasing '*', left side decreasing '*'\n",
    "\n",
    "n=5\n",
    "for i in range(n-1):\n",
    "    print(' '*(n-i-1)+'*'*(i+1)+'*'*(i))\n",
    "    \n",
    "for i in range(n):\n",
    "    print(' '*(i)+'*'*(n-i)+'*'*(n-i-1))"
   ]
  },
  {
   "cell_type": "code",
   "execution_count": 405,
   "id": "fcd0b68e",
   "metadata": {},
   "outputs": [
    {
     "name": "stdout",
     "output_type": "stream",
     "text": [
      "Please enter a list of numbers:10,20,30\n",
      "Index0 Value10\n",
      "Index1 Value20\n",
      "Index2 Value30\n"
     ]
    }
   ],
   "source": [
    "numlist= input(\"Please enter a list of numbers:\")\n",
    "split_list=numlist.split(',')\n",
    "\n",
    "for i,v in enumerate(split_list):\n",
    "    print(f\"Index{i} Value{v}\")"
   ]
  },
  {
   "cell_type": "code",
   "execution_count": 410,
   "id": "3d2ef6bc",
   "metadata": {},
   "outputs": [
    {
     "name": "stdout",
     "output_type": "stream",
     "text": [
      "apple : 3\n",
      "orange : 2\n",
      "grape : 1\n"
     ]
    }
   ],
   "source": [
    "str_req=\"apple orange grape orange apple apple\"\n",
    "\n",
    "str_list={}\n",
    "split_str=str_req.split(' ')\n",
    "\n",
    "for i in split_str:\n",
    "    if i in str_list:\n",
    "        str_list[i]+=1\n",
    "    else:\n",
    "        str_list[i]=1\n",
    "        \n",
    "for k,v in str_list.items():\n",
    "    print(f\"{k} : {v}\")"
   ]
  },
  {
   "cell_type": "code",
   "execution_count": 445,
   "id": "64c55817",
   "metadata": {},
   "outputs": [
    {
     "name": "stdout",
     "output_type": "stream",
     "text": [
      "Name of dog is Tommy and its kind is Labrador and Tommy Woofs!\n",
      "Parent Class Animal\n"
     ]
    }
   ],
   "source": [
    "class Animal():\n",
    "    def __init__(self,name,kind):\n",
    "        self.name=name\n",
    "        self.kind=kind\n",
    "        \n",
    "    def sound(self,s):\n",
    "        self.s=s\n",
    "        return f\"{self.name} {self.s}!\"\n",
    "    \n",
    "    def __str__(self):\n",
    "        return \"Parent Class Animal\"\n",
    "        \n",
    "class Dog(Animal):\n",
    "    def display(self):\n",
    "        print(f\"Name of dog is {d1.name} and its kind is {d1.kind} and {d1.sound('Woofs')}\")        \n",
    "        \n",
    "d1=Dog(\"Tommy\",\"Labrador\") \n",
    "d1.display()\n",
    "print(d1)\n",
    "#print(f\"Name of dog is {d1.name} and its kind is {d1.kind}\")        \n",
    "    "
   ]
  },
  {
   "cell_type": "code",
   "execution_count": 423,
   "id": "556bd717",
   "metadata": {},
   "outputs": [
    {
     "name": "stdout",
     "output_type": "stream",
     "text": [
      "First number = 1000\n",
      "Second number = 2000\n",
      "Addition of two numbers = 3000\n",
      "First number = 10\n",
      "Second number = 20\n",
      "Addition of two numbers = 30\n"
     ]
    }
   ],
   "source": [
    "class Addition:\n",
    "\tfirst = 0\n",
    "\tsecond = 0\n",
    "\tanswer = 0\n",
    "\n",
    "\t# parameterized constructor\n",
    "\tdef __init__(self, f, s):\n",
    "\t\tself.first = f\n",
    "\t\tself.second = s\n",
    "\n",
    "\tdef display(self):\n",
    "\t\tprint(\"First number = \" + str(self.first))\n",
    "\t\tprint(\"Second number = \" + str(self.second))\n",
    "\t\tprint(\"Addition of two numbers = \" + str(self.answer))\n",
    "\n",
    "\tdef calculate(self):\n",
    "\t\tself.answer = self.first + self.second\n",
    "\t\treturn self.answer\n",
    "\n",
    "\n",
    "# creating object of the class\n",
    "# this will invoke parameterized constructor\n",
    "obj1 = Addition(1000, 2000)\n",
    "\n",
    "# creating second object of same class\n",
    "obj2 = Addition(10, 20)\n",
    "\n",
    "# perform Addition on obj1\n",
    "obj1.calculate()\n",
    "\n",
    "# perform Addition on obj2\n",
    "obj2.calculate()\n",
    "\n",
    "# display result of obj1\n",
    "obj1.display()\n",
    "\n",
    "# display result of obj2\n",
    "obj2.display()\n"
   ]
  },
  {
   "cell_type": "code",
   "execution_count": 457,
   "id": "c4c3ed69",
   "metadata": {},
   "outputs": [
    {
     "name": "stdout",
     "output_type": "stream",
     "text": [
      "Toyota Etios\n",
      "Drive!\n",
      "Princessa Touring 20\n",
      "Sail!\n",
      "Boeing 747\n",
      "Fly!\n"
     ]
    }
   ],
   "source": [
    "class Car:\n",
    "    def __init__(self,name,model):\n",
    "        self.name=name\n",
    "        self.model=model\n",
    "        \n",
    "    def move(self):\n",
    "        print(\"Drive!\")\n",
    "        \n",
    "class Boat:\n",
    "    def __init__(self,name,model):\n",
    "        self.name=name\n",
    "        self.model=model\n",
    "        \n",
    "    def move(self):\n",
    "        print(\"Sail!\")\n",
    "        \n",
    "class Plane:\n",
    "    def __init__(self,name,model):\n",
    "        self.name=name\n",
    "        self.model=model\n",
    "        \n",
    "    def move(self):\n",
    "        print(\"Fly!\")\n",
    "        \n",
    "car1=Car(\"Toyota\",\"Etios\")\n",
    "boat1=Boat(\"Princessa\",\"Touring 20\")\n",
    "plane1=Plane(\"Boeing\",\"747\")\n",
    "\n",
    "for i in (car1,boat1,plane1):\n",
    "    print(f\"{i.name} {i.model}\"),i.move()\n"
   ]
  },
  {
   "cell_type": "code",
   "execution_count": 464,
   "id": "8ad65cca",
   "metadata": {},
   "outputs": [
    {
     "name": "stdout",
     "output_type": "stream",
     "text": [
      "Car details are:\n",
      "NAme is: Toyota\n",
      "Color is: Red\n",
      "No of Wheels are: 4\n",
      "\n",
      "Bike details are:\n",
      "NAme is: Honda\n",
      "Color is: Black\n",
      "No of Wheels are: 2\n"
     ]
    }
   ],
   "source": [
    "class Vehicle:\n",
    "    def __init__(self,name,color,wheels):\n",
    "        self.name=name\n",
    "        self.color=color\n",
    "        self.wheels=wheels\n",
    "        \n",
    "    def display(self):\n",
    "        print(f\"NAme is: {self.name}\")\n",
    "        print(f\"Color is: {self.color}\")\n",
    "        print(f\"No of Wheels are: {self.wheels}\")\n",
    "        \n",
    "class Car(Vehicle):\n",
    "    def __init__(self,name,color):\n",
    "        super().__init__(name,color,wheels=4)\n",
    "            \n",
    "class Bike(Vehicle):\n",
    "    def __init__(self,name,color):\n",
    "        super().__init__(name,color,wheels=2)\n",
    "        \n",
    "c1=Car(\"Toyota\",\"Red\")\n",
    "b1=Bike(\"Honda\",\"Black\")\n",
    "\n",
    "print(\"Car details are:\")\n",
    "c1.display()\n",
    "print()\n",
    "print(\"Bike details are:\")\n",
    "b1.display()"
   ]
  },
  {
   "cell_type": "code",
   "execution_count": 469,
   "id": "281008b1",
   "metadata": {},
   "outputs": [
    {
     "data": {
      "text/plain": [
       "[('Earth', 1),\n",
       " ('Neptune', 14),\n",
       " ('Uranus', 27),\n",
       " ('Jupiter', 79),\n",
       " ('Saturn', 82)]"
      ]
     },
     "execution_count": 469,
     "metadata": {},
     "output_type": "execute_result"
    }
   ],
   "source": [
    "def sort_func():\n",
    "    return lambda x:(x[1],x[0])\n",
    "\n",
    "ss=[('Earth',1),('Jupiter',79),('Saturn',82),('Uranus',27),('Neptune',14)]\n",
    "sorted_ss = sorted(ss,key=sort_func())\n",
    "\n",
    "ss\n",
    "sorted_ss"
   ]
  },
  {
   "cell_type": "code",
   "execution_count": 472,
   "id": "3ce1f910",
   "metadata": {},
   "outputs": [
    {
     "data": {
      "text/plain": [
       "11"
      ]
     },
     "execution_count": 472,
     "metadata": {},
     "output_type": "execute_result"
    }
   ],
   "source": [
    "tank = 0\n",
    "\n",
    "def fillup(qty):\n",
    "    global tank\n",
    "    tank+=qty\n",
    "    return tank\n",
    "\n",
    "def used(qty):\n",
    "    global tank\n",
    "    tank-=qty\n",
    "    return tank\n",
    "\n",
    "fillup(25)\n",
    "used(14)\n"
   ]
  },
  {
   "cell_type": "code",
   "execution_count": 477,
   "id": "31828bae",
   "metadata": {},
   "outputs": [
    {
     "name": "stdout",
     "output_type": "stream",
     "text": [
      "John\n",
      "36\n"
     ]
    }
   ],
   "source": [
    "class Person:\n",
    "    def __init__(self):\n",
    "        self.name=\"\"\n",
    "        self.age=0\n",
    "        \n",
    "    def set_name(self,name):\n",
    "        self.name=name\n",
    "        \n",
    "    def get_name(self):\n",
    "        return self.name\n",
    "    \n",
    "    def set_age(self,age):\n",
    "        if age>0:\n",
    "            self.age=age\n",
    "        else:\n",
    "            print(\"Age cannot be -ve\")\n",
    "\n",
    "    def get_age(self):\n",
    "        return self.age\n",
    "    \n",
    "    \n",
    "obj=Person()\n",
    "obj.set_name(\"John\")\n",
    "obj.set_age(36)\n",
    "\n",
    "print(obj.get_name())\n",
    "print(obj.get_age())\n"
   ]
  },
  {
   "cell_type": "code",
   "execution_count": 3,
   "id": "9864caf5",
   "metadata": {},
   "outputs": [
    {
     "data": {
      "text/plain": [
       "[3, 4, 5]"
      ]
     },
     "execution_count": 3,
     "metadata": {},
     "output_type": "execute_result"
    }
   ],
   "source": [
    "def drop_elements(n,seq):\n",
    "    return seq[n:]\n",
    "\n",
    "drop_elements(2,[1,2,3,4,5])"
   ]
  },
  {
   "cell_type": "code",
   "execution_count": 4,
   "id": "fe33b390",
   "metadata": {},
   "outputs": [
    {
     "data": {
      "text/plain": [
       "Counter({2: 3, 3: 3, 4: 2, 1: 1})"
      ]
     },
     "execution_count": 4,
     "metadata": {},
     "output_type": "execute_result"
    }
   ],
   "source": [
    "from collections import Counter\n",
    "\n",
    "def count_element_frequency(lst):\n",
    "    return Counter(lst)\n",
    "\n",
    "count_element_frequency([1,2,3,4,3,3,2,2,4])"
   ]
  },
  {
   "cell_type": "code",
   "execution_count": 7,
   "id": "381a71c3",
   "metadata": {},
   "outputs": [
    {
     "data": {
      "text/plain": [
       "['mango', 'banana', 'guava', 'pear']"
      ]
     },
     "execution_count": 7,
     "metadata": {},
     "output_type": "execute_result"
    }
   ],
   "source": [
    "fruits = [\"mango\", \"banana\", \"guava\"]\n",
    "fruits.append(\"pear\")\n",
    "fruits"
   ]
  },
  {
   "cell_type": "code",
   "execution_count": 9,
   "id": "c270ae73",
   "metadata": {},
   "outputs": [
    {
     "name": "stdout",
     "output_type": "stream",
     "text": [
      "8\n"
     ]
    }
   ],
   "source": [
    "def add_two(a, b):\n",
    "    return a + b\n",
    "\n",
    "total = add_two(2, 6)\n",
    "print(total)"
   ]
  },
  {
   "cell_type": "code",
   "execution_count": 13,
   "id": "32c6b79a",
   "metadata": {},
   "outputs": [
    {
     "data": {
      "text/plain": [
       "['item1']"
      ]
     },
     "execution_count": 13,
     "metadata": {},
     "output_type": "execute_result"
    }
   ],
   "source": [
    "def add_to_shopping_list(item,current_list=None):\n",
    "    if current_list is None:\n",
    "        current_list=[]\n",
    "    current_list.append(item)\n",
    "    return current_list\n",
    "\n",
    "add_to_shopping_list('item1')"
   ]
  },
  {
   "cell_type": "code",
   "execution_count": 16,
   "id": "ae74dfa3",
   "metadata": {},
   "outputs": [
    {
     "data": {
      "text/plain": [
       "4"
      ]
     },
     "execution_count": 16,
     "metadata": {},
     "output_type": "execute_result"
    }
   ],
   "source": [
    "def count_odd_numbers(numbers):\n",
    "    i=0\n",
    "    count=0\n",
    "    while i <= len(numbers):\n",
    "        if i%2!=0:\n",
    "            count+=1\n",
    "        i+=1 \n",
    "    return count\n",
    "\n",
    "count_odd_numbers([1,2,3,4,5,6,7])"
   ]
  },
  {
   "cell_type": "code",
   "execution_count": 35,
   "id": "209f266c",
   "metadata": {},
   "outputs": [
    {
     "data": {
      "text/plain": [
       "5"
      ]
     },
     "execution_count": 35,
     "metadata": {},
     "output_type": "execute_result"
    }
   ],
   "source": [
    "def count_odd_numbers(numbers):\n",
    "    i=0\n",
    "    count_odds=0\n",
    "    while i < len(numbers):\n",
    "        if numbers[i]%2!=0:\n",
    "            count_odds+=1\n",
    "        i+=1 \n",
    "\n",
    "    return count_odds\n",
    "\n",
    "count_odd_numbers([1, 2, 3, 4, 5, 6, 7, 8, 9, 10])"
   ]
  },
  {
   "cell_type": "code",
   "execution_count": 37,
   "id": "01f885b5",
   "metadata": {},
   "outputs": [
    {
     "data": {
      "text/plain": [
       "3"
      ]
     },
     "execution_count": 37,
     "metadata": {},
     "output_type": "execute_result"
    }
   ],
   "source": [
    "def count_vowels(string):\n",
    "    counter=0\n",
    "    for i in string:\n",
    "        if i.lower() in ['a','e','i','o','u']:\n",
    "            counter += 1\n",
    "    return counter    \n",
    "\n",
    "count_vowels(\"Hello World!\")"
   ]
  },
  {
   "cell_type": "code",
   "execution_count": 41,
   "id": "5a8140d1",
   "metadata": {},
   "outputs": [
    {
     "data": {
      "text/plain": [
       "'2001,2004,2007'"
      ]
     },
     "execution_count": 41,
     "metadata": {},
     "output_type": "execute_result"
    }
   ],
   "source": [
    "def divisible_numbers(numbers):\n",
    "    result=[]\n",
    "    for i in numbers:\n",
    "        if i in range(2000,3201):\n",
    "            if (i % 3 == 0) and (i % 7 != 0):\n",
    "                result.append(str(i))\n",
    "            \n",
    "    return ','.join(result)\n",
    "\n",
    "divisible_numbers([2000, 2001, 2002, 2003, 2004, 2005, 2006, 2007, 2008, 2009])"
   ]
  },
  {
   "cell_type": "code",
   "execution_count": null,
   "id": "38c50ac7",
   "metadata": {},
   "outputs": [],
   "source": []
  }
 ],
 "metadata": {
  "kernelspec": {
   "display_name": "Python 3 (ipykernel)",
   "language": "python",
   "name": "python3"
  },
  "language_info": {
   "codemirror_mode": {
    "name": "ipython",
    "version": 3
   },
   "file_extension": ".py",
   "mimetype": "text/x-python",
   "name": "python",
   "nbconvert_exporter": "python",
   "pygments_lexer": "ipython3",
   "version": "3.11.5"
  }
 },
 "nbformat": 4,
 "nbformat_minor": 5
}
