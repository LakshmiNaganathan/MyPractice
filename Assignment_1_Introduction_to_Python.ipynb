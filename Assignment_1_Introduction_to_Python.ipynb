{
 "cells": [
  {
   "cell_type": "markdown",
   "metadata": {
    "id": "BOoNy098FC4C"
   },
   "source": [
    "## Problem 1"
   ]
  },
  {
   "cell_type": "code",
   "execution_count": 1,
   "metadata": {
    "colab": {
     "base_uri": "https://localhost:8080/"
    },
    "id": "5CcRQfmDFFFO",
    "outputId": "9ac3750d-8549-439f-fa37-23064aef0126"
   },
   "outputs": [
    {
     "name": "stdout",
     "output_type": "stream",
     "text": [
      "Enter any number \n",
      "12\n",
      "The factors of 12 are:\n",
      "1  Odd\n",
      "2  Even\n",
      "3  Odd\n",
      "4  Even\n",
      "6  Even\n",
      "12  Even\n"
     ]
    }
   ],
   "source": [
    "x = int(input(\"Enter any number \\n\"))\n",
    "print(\"The factors of\",x,\"are:\")\n",
    "for i in range(1, x + 1):\n",
    "    if x % i == 0:\n",
    "        if i % 2 == 0:\n",
    "            print(i,\" Even\")\n",
    "        else:\n",
    "            print(i,\" Odd\")"
   ]
  },
  {
   "cell_type": "markdown",
   "metadata": {
    "id": "o5Cu08BPFBbE"
   },
   "source": [
    "## **Problem 2**"
   ]
  },
  {
   "cell_type": "code",
   "execution_count": 2,
   "metadata": {
    "colab": {
     "base_uri": "https://localhost:8080/"
    },
    "id": "DpSYB-WJFYpb",
    "outputId": "7923add2-134f-481d-cb8c-073ee925bdf5"
   },
   "outputs": [
    {
     "name": "stdout",
     "output_type": "stream",
     "text": [
      "Enter the sequence of words:Edureka has a lot of courses\n",
      "['a', 'courses', 'edureka', 'has', 'lot', 'of']\n"
     ]
    }
   ],
   "source": [
    "seq = input(\"Enter the sequence of words:\")\n",
    "\n",
    "split_list = seq.lower().split(' ')\n",
    "split_list.sort()\n",
    "print(split_list)"
   ]
  },
  {
   "cell_type": "markdown",
   "metadata": {
    "id": "jptdtIu8F9zT"
   },
   "source": [
    "## **Problem 3**"
   ]
  },
  {
   "cell_type": "code",
   "execution_count": 7,
   "metadata": {
    "colab": {
     "base_uri": "https://localhost:8080/"
    },
    "id": "6252QXekGBWE",
    "outputId": "e24a2567-25cf-4cc2-c5a5-5132efef37d7"
   },
   "outputs": [
    {
     "name": "stdout",
     "output_type": "stream",
     "text": [
      "There are 125 numbers between 1000 and 3000 that have all odd digits.\n"
     ]
    }
   ],
   "source": [
    "numbers = []\n",
    "for x in range (1001, 3000):\n",
    "    numSplit = [int(d) for d in str(x)]\n",
    "    even = False\n",
    "    for y in range (0, len(numSplit)):\n",
    "        if numSplit[y] % 2 == 0:\n",
    "            even = True\n",
    "    if (even == False):\n",
    "        numbers.append(x)\n",
    "#print (numbers)\n",
    "len_list= len(numbers)\n",
    "#print(final_list)\n",
    "print(\"There are\",len_list,\"numbers between 1000 and 3000 that have all odd digits.\")"
   ]
  },
  {
   "cell_type": "markdown",
   "metadata": {
    "id": "TR-4vmTNGJp_"
   },
   "source": [
    "## **Problem 4**"
   ]
  },
  {
   "cell_type": "code",
   "execution_count": 8,
   "metadata": {
    "colab": {
     "base_uri": "https://localhost:8080/"
    },
    "id": "wLhRzVJjGHQ6",
    "outputId": "47e17720-06f0-4c3a-9010-713551afb58d"
   },
   "outputs": [
    {
     "name": "stdout",
     "output_type": "stream",
     "text": [
      "Please enter a string with letters and digits:testing234abc9xyz67\n",
      "Letters are:  13 digits are: 6\n"
     ]
    }
   ],
   "source": [
    "string = input(\"Please enter a string with letters and digits:\")\n",
    "#string = \"Edureka123\"\n",
    "letters=0\n",
    "digits=0\n",
    "\n",
    "for d in string:\n",
    "    if(d.isalpha()):\n",
    "        letters+=1\n",
    "    else:\n",
    "        digits+=1\n",
    "\n",
    "print(\"Letters are: \",letters,\"digits are:\",digits)"
   ]
  },
  {
   "cell_type": "markdown",
   "metadata": {
    "id": "7i45FlpAGVNA"
   },
   "source": [
    "## **Problem 5**"
   ]
  },
  {
   "cell_type": "code",
   "execution_count": 9,
   "metadata": {
    "colab": {
     "base_uri": "https://localhost:8080/"
    },
    "id": "NHx6cRgZGOOX",
    "outputId": "110eef60-13cf-415c-d4eb-490c40797e37"
   },
   "outputs": [
    {
     "name": "stdout",
     "output_type": "stream",
     "text": [
      "Enter a number:12321\n",
      "Given number 12321  is a Palindrome\n"
     ]
    }
   ],
   "source": [
    "num = input(\"Enter a number:\")\n",
    "rev_num = num[::-1]\n",
    "\n",
    "if num == rev_num:\n",
    "  print(\"Given number\",num,\" is a Palindrome\")\n",
    "else:\n",
    "  print(\"Given number\",num,\" is not a Palindrome\")"
   ]
  },
  {
   "cell_type": "code",
   "execution_count": null,
   "metadata": {
    "id": "QqQwF_swGZfl"
   },
   "outputs": [],
   "source": []
  }
 ],
 "metadata": {
  "colab": {
   "provenance": []
  },
  "kernelspec": {
   "display_name": "Python 3 (ipykernel)",
   "language": "python",
   "name": "python3"
  },
  "language_info": {
   "codemirror_mode": {
    "name": "ipython",
    "version": 3
   },
   "file_extension": ".py",
   "mimetype": "text/x-python",
   "name": "python",
   "nbconvert_exporter": "python",
   "pygments_lexer": "ipython3",
   "version": "3.11.5"
  }
 },
 "nbformat": 4,
 "nbformat_minor": 1
}
