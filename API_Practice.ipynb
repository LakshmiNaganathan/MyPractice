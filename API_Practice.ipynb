{
 "cells": [
  {
   "cell_type": "code",
   "execution_count": 4,
   "id": "55f86d4c",
   "metadata": {},
   "outputs": [],
   "source": [
    "import requests\n",
    "import json"
   ]
  },
  {
   "cell_type": "code",
   "execution_count": 21,
   "id": "15d571ce",
   "metadata": {},
   "outputs": [
    {
     "name": "stdout",
     "output_type": "stream",
     "text": [
      "name 'json_loads' is not defined\n"
     ]
    }
   ],
   "source": [
    "def fetch_data():\n",
    "    url = \"https://api.freeapi.app/api/v1/public/randomusers/13\"\n",
    "    response=requests.get(url)\n",
    "    data = response.json()\n",
    "\n",
    "    if data[\"success\"] and \"data\" in data:\n",
    "        user_data = data[\"data\"]\n",
    "        name = user_data[\"login\"][\"username\"]\n",
    "        country = user_data[\"location\"][\"country\"]\n",
    "        return name,country\n",
    "    else:\n",
    "        raise Exception(\"Failed to fetch data.\")\n",
    "    \n",
    "def main():\n",
    "    try:\n",
    "        name,country = fetch_data()\n",
    "        print(f\"Username: {name} \\nCountry: {country}\")\n",
    "\n",
    "    except Exception as e:\n",
    "        print(str(e))\n",
    "        \n",
    "if __name__ == \"__main__\":\n",
    "    main()\n",
    "        \n",
    "#fetch_data(\"https://api.freeapi.app/api/v1/public/randomusers/13\")\n",
    "        "
   ]
  },
  {
   "cell_type": "code",
   "execution_count": 12,
   "id": "6bde0bcd",
   "metadata": {},
   "outputs": [
    {
     "name": "stdout",
     "output_type": "stream",
     "text": [
      "{'password': '123', 'username': 'abc'}\n"
     ]
    }
   ],
   "source": [
    "payload = {'username':'abc','password':'123'}\n",
    "r = requests.post('https://httpbin.org/post',data=payload)\n",
    "r_dict=r.json()\n",
    "print(r_dict['form'])"
   ]
  },
  {
   "cell_type": "code",
   "execution_count": 16,
   "id": "b4453bc7",
   "metadata": {},
   "outputs": [
    {
     "name": "stdout",
     "output_type": "stream",
     "text": [
      "<Response [200]>\n"
     ]
    }
   ],
   "source": [
    "d=requests.get('https://httpbin.org/basic-auth/abc/123',auth=('abc','123'))\n",
    "print(d)"
   ]
  },
  {
   "cell_type": "code",
   "execution_count": 20,
   "id": "111df047",
   "metadata": {},
   "outputs": [
    {
     "name": "stdout",
     "output_type": "stream",
     "text": [
      "{'apple': 2, 'banana': 2, 'chickoo': 1}\n"
     ]
    }
   ],
   "source": [
    "dirlist=['apple','banana','apple','banana','chickoo']\n",
    "\n",
    "count_dict={}\n",
    "for i in dirlist:\n",
    "    count_dict[i] = dirlist.count(i)\n",
    "    \n",
    "print(count_dict)"
   ]
  },
  {
   "cell_type": "code",
   "execution_count": null,
   "id": "810e15e0",
   "metadata": {},
   "outputs": [],
   "source": []
  }
 ],
 "metadata": {
  "kernelspec": {
   "display_name": "Python 3 (ipykernel)",
   "language": "python",
   "name": "python3"
  },
  "language_info": {
   "codemirror_mode": {
    "name": "ipython",
    "version": 3
   },
   "file_extension": ".py",
   "mimetype": "text/x-python",
   "name": "python",
   "nbconvert_exporter": "python",
   "pygments_lexer": "ipython3",
   "version": "3.11.5"
  }
 },
 "nbformat": 4,
 "nbformat_minor": 5
}
