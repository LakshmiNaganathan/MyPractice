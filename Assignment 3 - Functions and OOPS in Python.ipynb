{
 "cells": [
  {
   "cell_type": "markdown",
   "id": "0c50e65c",
   "metadata": {},
   "source": [
    "## 1. Create a dog object that will inherit all the variables and methods of the parent class Animal and display it"
   ]
  },
  {
   "cell_type": "code",
   "execution_count": 1,
   "id": "10aec0b7",
   "metadata": {},
   "outputs": [
    {
     "name": "stdout",
     "output_type": "stream",
     "text": [
      "Species:  Labrador\n",
      "Sound:  Woof\n",
      "Name:  Tommy\n"
     ]
    }
   ],
   "source": [
    "class Animal():\n",
    "    def details(self,species,sound):\n",
    "        self.species=species\n",
    "        self.sound=sound\n",
    "\n",
    "    \n",
    "class Dog(Animal):\n",
    "    def __init__(self,name):\n",
    "        super().details(\"Labrador\",\"Woof\")\n",
    "        self.name=name\n",
    "        \n",
    "dog_obj=Dog(\"Tommy\")\n",
    "\n",
    "print(\"Species: \",dog_obj.species)\n",
    "print(\"Sound: \",dog_obj.sound)\n",
    "print(\"Name: \",dog_obj.name)\n",
    "        \n",
    "        \n",
    "    "
   ]
  },
  {
   "cell_type": "markdown",
   "id": "1e42d537",
   "metadata": {},
   "source": [
    "## 2. Demonstrate the working of Polymorphism by creating two classes - Car and Bike. Display the information like name, color, and number of wheels."
   ]
  },
  {
   "cell_type": "code",
   "execution_count": 20,
   "id": "b1a4d15b",
   "metadata": {},
   "outputs": [
    {
     "name": "stdout",
     "output_type": "stream",
     "text": [
      "Car Details:\n",
      "Name is Toyota\n",
      "Color is Blue\n",
      "Number of wheels is 4\n",
      "Bike Details:\n",
      "Name is Honda\n",
      "Color is Black\n",
      "Number of wheels is 2\n"
     ]
    }
   ],
   "source": [
    "class Vehicle():\n",
    "    def __init__(self,name,color,no_of_wheels):\n",
    "        self.name=name\n",
    "        self.color=color\n",
    "        self.no_of_wheels=no_of_wheels\n",
    "        \n",
    "    def display_info(self):\n",
    "        print(f\"Name is {self.name}\")\n",
    "        print(f\"Color is {self.color}\")\n",
    "        print(f\"Number of wheels is {self.no_of_wheels}\")\n",
    "\n",
    "class Car(Vehicle):\n",
    "    def __init__(self,name,color):\n",
    "        super().__init__(name,color,no_of_wheels=4)\n",
    "        \n",
    "    \n",
    "class Bike(Vehicle):\n",
    "    def __init__(self,name,color):\n",
    "        super().__init__(name,color,no_of_wheels=2)\n",
    "        \n",
    "        \n",
    "car_obj=Car(\"Toyota\",\"Blue\")\n",
    "bike_obj=Bike(\"Honda\",\"Black\")\n",
    "\n",
    "print(\"Car Details:\")\n",
    "car_obj.display_info()\n",
    "\n",
    "print(\"Bike Details:\")\n",
    "bike_obj.display_info()\n"
   ]
  },
  {
   "cell_type": "markdown",
   "id": "b36c33c4",
   "metadata": {},
   "source": [
    "## 3. Create a list of tuples containing the 5 planets of our solar system along with their moons as- earth having 1 moon, Jupiter having 79 moons, Saturn having 82 moons, Uranus having 27 moons and Neptune having 14 moons. Sort the list according to the ascending number of moons along with the names of planet using Lambda function. Display both original and sorted list."
   ]
  },
  {
   "cell_type": "code",
   "execution_count": 39,
   "id": "f5111101",
   "metadata": {},
   "outputs": [
    {
     "data": {
      "text/plain": [
       "[('Earth', 1),\n",
       " ('Jupiter', 79),\n",
       " ('Saturn', 82),\n",
       " ('Uranus', 27),\n",
       " ('Neptune', 14)]"
      ]
     },
     "execution_count": 39,
     "metadata": {},
     "output_type": "execute_result"
    }
   ],
   "source": [
    "ss=[('Earth',1),('Jupiter',79),('Saturn',82),('Uranus',27),('Neptune',14)]\n",
    "ss"
   ]
  },
  {
   "cell_type": "code",
   "execution_count": 40,
   "id": "3dbd960c",
   "metadata": {},
   "outputs": [
    {
     "data": {
      "text/plain": [
       "[('Earth', 1),\n",
       " ('Neptune', 14),\n",
       " ('Uranus', 27),\n",
       " ('Jupiter', 79),\n",
       " ('Saturn', 82)]"
      ]
     },
     "execution_count": 40,
     "metadata": {},
     "output_type": "execute_result"
    }
   ],
   "source": [
    "sorted_ss = sorted(ss,key=lambda x: (x[1],x[0]))\n",
    "sorted_ss"
   ]
  },
  {
   "cell_type": "code",
   "execution_count": 43,
   "id": "decdac5c",
   "metadata": {},
   "outputs": [
    {
     "name": "stdout",
     "output_type": "stream",
     "text": [
      "Original List:\n",
      "Earth : 1 moon(s)\n",
      "Jupiter : 79 moon(s)\n",
      "Saturn : 82 moon(s)\n",
      "Uranus : 27 moon(s)\n",
      "Neptune : 14 moon(s)\n",
      "Sorted List:\n",
      "Earth : 1 moon(s)\n",
      "Neptune : 14 moon(s)\n",
      "Uranus : 27 moon(s)\n",
      "Jupiter : 79 moon(s)\n",
      "Saturn : 82 moon(s)\n"
     ]
    }
   ],
   "source": [
    "print(\"Original List:\")\n",
    "for p,m in ss:\n",
    "    print(f\"{p} : {m} moon(s)\")\n",
    "print(\"Sorted List:\")\n",
    "for p1,m1 in sorted_ss:\n",
    "    print(f\"{p1} : {m1} moon(s)\")"
   ]
  },
  {
   "cell_type": "markdown",
   "id": "1638e1c1",
   "metadata": {},
   "source": [
    "## 4. Create two functions - fillup and use, which uses a global variable as tank. Use the global variable in both the functions to return the quantity of fuel present in the tank after filling up the tank and after using the fuel of the tank. Show the working of two functions only. It is not necessary to display the outputs."
   ]
  },
  {
   "cell_type": "code",
   "execution_count": 53,
   "id": "2a31d75a",
   "metadata": {},
   "outputs": [
    {
     "data": {
      "text/plain": [
       "600"
      ]
     },
     "execution_count": 53,
     "metadata": {},
     "output_type": "execute_result"
    }
   ],
   "source": [
    "tank = 0\n",
    "\n",
    "def fillup(qty):\n",
    "    global tank\n",
    "    tank += qty\n",
    "    return tank\n",
    "\n",
    "def use(qty):\n",
    "    global tank\n",
    "    tank -= qty\n",
    "    return tank\n",
    "    \n",
    "fillup(1000)\n",
    "use(400)"
   ]
  },
  {
   "cell_type": "markdown",
   "id": "e4dfe2b7",
   "metadata": {},
   "source": [
    "## 5. Write a program to depict the use of multiple inheritance. The program should contain 4 classes - class 4 should inherit from class 2 and class 3. Similarly, class 2 should inherit from class 1. Class 3 should inherit from class 1. Each class should have its own print statement."
   ]
  },
  {
   "cell_type": "code",
   "execution_count": 66,
   "id": "98d32637",
   "metadata": {},
   "outputs": [
    {
     "name": "stdout",
     "output_type": "stream",
     "text": [
      "Class1 is the grandparent class.\n",
      "Class2 inherits from Class1 and is a parent class for Class4.\n",
      "Class3 inherits from Class1 and is a parent class for Class4.\n",
      "Class4 is a child class and inherits from Class2 and Class3.\n"
     ]
    }
   ],
   "source": [
    "class Class1():\n",
    "    def method1(self):\n",
    "        print(\"Class1 is the grandparent class.\")\n",
    "    \n",
    "class Class2(Class1):\n",
    "    def method2(self):\n",
    "        print(\"Class2 inherits from Class1 and is a parent class for Class4.\")\n",
    "    \n",
    "class Class3(Class1):\n",
    "    def method3(self):\n",
    "        print(\"Class3 inherits from Class1 and is a parent class for Class4.\")\n",
    "    \n",
    "class Class4(Class2,Class3):\n",
    "    def method4(self):\n",
    "        print(\"Class4 is a child class and inherits from Class2 and Class3.\")\n",
    "        \n",
    "obj=Class4()\n",
    "obj.method1()\n",
    "obj.method2()\n",
    "obj.method3()\n",
    "obj.method4()\n"
   ]
  },
  {
   "cell_type": "markdown",
   "id": "839a4184",
   "metadata": {},
   "source": [
    "## 6. Use Getter and Setter method to set the name and age of a person. Moreover, get the name and age of the same person."
   ]
  },
  {
   "cell_type": "code",
   "execution_count": 77,
   "id": "4b6b62c5",
   "metadata": {},
   "outputs": [
    {
     "name": "stdout",
     "output_type": "stream",
     "text": [
      "Name is: John\n",
      "Age is: 20\n"
     ]
    }
   ],
   "source": [
    "class Person():\n",
    "    def __init__(self):\n",
    "        self.name=\"\"\n",
    "        self.age=0\n",
    "        \n",
    "    def set_name(self,name):\n",
    "        self.name=name\n",
    "        \n",
    "    def get_name(self):\n",
    "        return self.name\n",
    "    \n",
    "    def set_age(self,age):\n",
    "        if age > 0:\n",
    "            self.age = age\n",
    "        else:\n",
    "            print(\"Age cannot be negative or zero\")\n",
    "            \n",
    "    def get_age(self):\n",
    "        return self.age\n",
    "    \n",
    "    \n",
    "obj = Person()\n",
    "obj.set_name(\"John\")\n",
    "obj.set_age(20)\n",
    "\n",
    "name1 = obj.get_name()\n",
    "age1 = obj.get_age()\n",
    "\n",
    "print(\"Name is:\",name1)\n",
    "print(\"Age is:\",age1)"
   ]
  },
  {
   "cell_type": "code",
   "execution_count": null,
   "id": "f4b9a052",
   "metadata": {},
   "outputs": [],
   "source": []
  }
 ],
 "metadata": {
  "kernelspec": {
   "display_name": "Python 3 (ipykernel)",
   "language": "python",
   "name": "python3"
  },
  "language_info": {
   "codemirror_mode": {
    "name": "ipython",
    "version": 3
   },
   "file_extension": ".py",
   "mimetype": "text/x-python",
   "name": "python",
   "nbconvert_exporter": "python",
   "pygments_lexer": "ipython3",
   "version": "3.11.5"
  }
 },
 "nbformat": 4,
 "nbformat_minor": 5
}
