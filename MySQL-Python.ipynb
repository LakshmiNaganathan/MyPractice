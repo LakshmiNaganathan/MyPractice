{
 "cells": [
  {
   "cell_type": "code",
   "execution_count": 1,
   "id": "46a08444",
   "metadata": {},
   "outputs": [],
   "source": [
    "import mysql.connector"
   ]
  },
  {
   "cell_type": "code",
   "execution_count": 2,
   "id": "0aba44a9",
   "metadata": {},
   "outputs": [],
   "source": [
    "mydb = mysql.connector.connect(\n",
    "    host=\"localhost\",\n",
    "    user=\"root\",\n",
    "    passwd=\"mysql123\"\n",
    ")"
   ]
  },
  {
   "cell_type": "code",
   "execution_count": 3,
   "id": "9c50eace",
   "metadata": {},
   "outputs": [],
   "source": [
    "mycursor = mydb.cursor()"
   ]
  },
  {
   "cell_type": "code",
   "execution_count": 4,
   "id": "592e182c",
   "metadata": {},
   "outputs": [],
   "source": [
    "mycursor.execute(\"show databases\")"
   ]
  },
  {
   "cell_type": "code",
   "execution_count": 5,
   "id": "c72c32ee",
   "metadata": {},
   "outputs": [
    {
     "name": "stdout",
     "output_type": "stream",
     "text": [
      "('information_schema',)\n",
      "('mysql',)\n",
      "('performance_schema',)\n",
      "('sales',)\n",
      "('sys',)\n"
     ]
    }
   ],
   "source": [
    "for i in mycursor:\n",
    "    print(i)"
   ]
  },
  {
   "cell_type": "code",
   "execution_count": 6,
   "id": "bcebbd1f",
   "metadata": {},
   "outputs": [],
   "source": [
    "mycursor.execute(\"use sales\")"
   ]
  },
  {
   "cell_type": "code",
   "execution_count": 8,
   "id": "39f9fa5d",
   "metadata": {},
   "outputs": [
    {
     "data": {
      "text/plain": [
       "[('Cus001', 'Surge Stores', 'Brick & Mortar'),\n",
       " ('Cus002', 'Nomad Stores', 'Brick & Mortar'),\n",
       " ('Cus003', 'Excel Stores', 'Brick & Mortar'),\n",
       " ('Cus004', 'Surface Stores', 'Brick & Mortar'),\n",
       " ('Cus005', 'Premium Stores', 'Brick & Mortar'),\n",
       " ('Cus006', 'Electricalsara Stores', 'Brick & Mortar'),\n",
       " ('Cus007', 'Info Stores', 'Brick & Mortar'),\n",
       " ('Cus008', 'Acclaimed Stores', 'Brick & Mortar'),\n",
       " ('Cus009', 'Electricalsquipo Stores', 'Brick & Mortar'),\n",
       " ('Cus010', 'Atlas Stores', 'Brick & Mortar'),\n",
       " ('Cus011', 'Flawless Stores', 'Brick & Mortar'),\n",
       " ('Cus012', 'Integration Stores', 'Brick & Mortar'),\n",
       " ('Cus013', 'Unity Stores', 'Brick & Mortar'),\n",
       " ('Cus014', 'Forward Stores', 'Brick & Mortar'),\n",
       " ('Cus015', 'Electricalsbea Stores', 'Brick & Mortar'),\n",
       " ('Cus016', 'Logic Stores', 'Brick & Mortar'),\n",
       " ('Cus017', 'Epic Stores', 'Brick & Mortar'),\n",
       " ('Cus018', 'Electricalslance Stores', 'Brick & Mortar'),\n",
       " ('Cus019', 'Electricalsopedia Stores', 'Brick & Mortar')]"
      ]
     },
     "execution_count": 8,
     "metadata": {},
     "output_type": "execute_result"
    }
   ],
   "source": [
    "sql = \"select * from customers where customer_type like '%Brick%'\"\n",
    "mycursor.execute(sql)\n",
    "result = mycursor.fetchall()\n",
    "result"
   ]
  },
  {
   "cell_type": "code",
   "execution_count": 28,
   "id": "559d6f42",
   "metadata": {},
   "outputs": [],
   "source": [
    "import pandas as pd"
   ]
  },
  {
   "cell_type": "code",
   "execution_count": 29,
   "id": "033d1f35",
   "metadata": {},
   "outputs": [],
   "source": [
    "code=[]\n",
    "name=[]\n",
    "ctype=[]\n",
    "\n",
    "for c,n,t in result:\n",
    "    code.append(c)\n",
    "    name.append(n)\n",
    "    ctype.append(t)\n",
    "    \n",
    "dic={'customer_code' : code, 'customer_name':name, 'customer_type':ctype}\n",
    "df=pd.DataFrame(dic)\n",
    "df_csv=df.to_csv('customer_data.csv')"
   ]
  },
  {
   "cell_type": "code",
   "execution_count": 30,
   "id": "06b25e84",
   "metadata": {},
   "outputs": [],
   "source": [
    "users:dict={0:\"Mario\",1:\"Luigi\",2:\"James\"}"
   ]
  },
  {
   "cell_type": "code",
   "execution_count": 31,
   "id": "8c2f2291",
   "metadata": {},
   "outputs": [
    {
     "data": {
      "text/plain": [
       "dict_keys([0, 1, 2])"
      ]
     },
     "execution_count": 31,
     "metadata": {},
     "output_type": "execute_result"
    }
   ],
   "source": [
    "users.keys()"
   ]
  },
  {
   "cell_type": "code",
   "execution_count": 32,
   "id": "32efe137",
   "metadata": {},
   "outputs": [
    {
     "data": {
      "text/plain": [
       "dict_values(['Mario', 'Luigi', 'James'])"
      ]
     },
     "execution_count": 32,
     "metadata": {},
     "output_type": "execute_result"
    }
   ],
   "source": [
    "users.values()"
   ]
  },
  {
   "cell_type": "code",
   "execution_count": 34,
   "id": "ffd84188",
   "metadata": {},
   "outputs": [
    {
     "name": "stdout",
     "output_type": "stream",
     "text": [
      "James\n"
     ]
    }
   ],
   "source": [
    "popped:str = users.pop(2)\n",
    "print(popped)"
   ]
  },
  {
   "cell_type": "code",
   "execution_count": null,
   "id": "9b1df7cd",
   "metadata": {},
   "outputs": [],
   "source": []
  }
 ],
 "metadata": {
  "kernelspec": {
   "display_name": "Python 3 (ipykernel)",
   "language": "python",
   "name": "python3"
  },
  "language_info": {
   "codemirror_mode": {
    "name": "ipython",
    "version": 3
   },
   "file_extension": ".py",
   "mimetype": "text/x-python",
   "name": "python",
   "nbconvert_exporter": "python",
   "pygments_lexer": "ipython3",
   "version": "3.11.5"
  }
 },
 "nbformat": 4,
 "nbformat_minor": 5
}
