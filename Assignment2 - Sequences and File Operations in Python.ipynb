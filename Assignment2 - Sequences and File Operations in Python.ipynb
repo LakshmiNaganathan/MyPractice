{
 "cells": [
  {
   "cell_type": "markdown",
   "id": "21abd94f",
   "metadata": {},
   "source": [
    "## 1. Smith wishes to register on a ticket booking website for booking bus tickets. To authenticate the registration, he needs to provide a user-id and password. There are some built-in rules for checking the validity of the passwords entered by the users. Following are the rules for checking the validity of a password:\n",
    "i. At least 1 alphabet ii. At least 1 digit between [0–9]\n",
    "iii. At least 1 character from [@&]\n",
    "iv. Minimum length of transaction password: 5\n",
    "v. Maximum length of transaction password: 10"
   ]
  },
  {
   "cell_type": "code",
   "execution_count": 1,
   "id": "126a300c",
   "metadata": {},
   "outputs": [],
   "source": [
    "import re"
   ]
  },
  {
   "cell_type": "code",
   "execution_count": 5,
   "id": "9065110b",
   "metadata": {},
   "outputs": [
    {
     "name": "stdout",
     "output_type": "stream",
     "text": [
      "Enter a password:abc@123\n",
      "Password Accepted!\n"
     ]
    }
   ],
   "source": [
    "pass_str = input(\"Enter a password:\")\n",
    "    \n",
    "#At least 1 alphabet\n",
    "if not re.search('[a-zA-Z]',pass_str):\n",
    "    print(\"There should atleast be 1 Alphabet in the password.\")\n",
    "    \n",
    "#At least 1 digit between [0–9]\n",
    "if not re.search('[0-9]',pass_str):\n",
    "    print(\"There should be atleast 1 digit in the password.\")\n",
    "    \n",
    "#At least 1 character from [@&]\n",
    "if not re.search('[@&]',pass_str):\n",
    "    print(\"There should be atleast 1 character from '@' or '&' in the password.\")\n",
    "    \n",
    "#Minimum length of transaction password: 5\n",
    "if len(pass_str) < 5:\n",
    "    print(\"The length of password should be minimum 5\")\n",
    "    \n",
    "#Maximum length of transaction password: 10\n",
    "if len(pass_str) > 10:\n",
    "    print(\"The length of password should be maximum 10\")\n",
    "    \n",
    "else:\n",
    "    print(\"Password Accepted!\")\n",
    "    \n",
    "    \n",
    "        \n"
   ]
  },
  {
   "cell_type": "markdown",
   "id": "d7683b49",
   "metadata": {},
   "source": [
    "## 2. Write a program for printing all elements of a list and their indexes in the list. Take the list as user input."
   ]
  },
  {
   "cell_type": "code",
   "execution_count": 1,
   "id": "5b07412a",
   "metadata": {},
   "outputs": [
    {
     "data": {
      "text/plain": [
       "30"
      ]
     },
     "execution_count": 1,
     "metadata": {},
     "output_type": "execute_result"
    }
   ],
   "source": [
    "ilist = [10,20,30,40]\n",
    "i=2\n",
    "ilist[i]"
   ]
  },
  {
   "cell_type": "code",
   "execution_count": 1,
   "id": "541db13a",
   "metadata": {},
   "outputs": [
    {
     "name": "stdout",
     "output_type": "stream",
     "text": [
      "Please enter a list of elements:10,20,30\n",
      "Elements of a list and their indexes are as below: \n",
      "Index: 0 Element: 10\n",
      "Index: 1 Element: 20\n",
      "Index: 2 Element: 30\n"
     ]
    }
   ],
   "source": [
    "input_list = input(\"Please enter a list of elements:\")\n",
    "split_list = input_list.split(',')\n",
    "\n",
    "print(\"Elements of a list and their indexes are as below: \")\n",
    "index=0\n",
    "for e in split_list:\n",
    "    print(f\"Index: {index} Element: {e}\")\n",
    "    index+=1"
   ]
  },
  {
   "cell_type": "markdown",
   "id": "f42a612f",
   "metadata": {},
   "source": [
    "## 3.Write  a  program that accepts a  string from the  console and prints the  characters that have even indexes if the character is an alphabet. Concatenate the characters and print. Example: If the following string is given as input to the program: Ed12ur3ka1Python12 Then, the output of the program should be: EuaPto"
   ]
  },
  {
   "cell_type": "code",
   "execution_count": 5,
   "id": "4e3dfc64",
   "metadata": {},
   "outputs": [
    {
     "name": "stdout",
     "output_type": "stream",
     "text": [
      "Enter a string:Ed12ur3ka1Python12\n",
      "As a string: EuaPto\n",
      "As a list: EuaPto\n"
     ]
    }
   ],
   "source": [
    "input_str=input(\"Enter a string:\")\n",
    "\n",
    "even_elements=\"\" #String\n",
    "even_element=[] #List\n",
    "for i,e in enumerate(input_str):\n",
    "    if i % 2 == 0 and e.isalpha() == True: \n",
    "        even_element.append(e) #list\n",
    "        even_elements+=e #string\n",
    "        \n",
    "\n",
    "print(\"As a string:\",even_elements) #string\n",
    "print(\"As a list:\", ''.join(map(str,even_element))) #list"
   ]
  },
  {
   "cell_type": "markdown",
   "id": "8e159453",
   "metadata": {},
   "source": [
    "## 4. Please write a program that accepts a string from the console and prints it in reverse order. Example If the following string is given as input to the program: welcome to edureka Then, the output of the program should be: akerude ot emoclew"
   ]
  },
  {
   "cell_type": "code",
   "execution_count": 3,
   "id": "53206863",
   "metadata": {},
   "outputs": [
    {
     "name": "stdout",
     "output_type": "stream",
     "text": [
      "Enter a string:welcome to edureka\n",
      "akerude ot emoclew\n"
     ]
    }
   ],
   "source": [
    "s=input(\"Enter a string:\")\n",
    "\n",
    "slist=[]\n",
    "for i in s:\n",
    "    slist.append(i)\n",
    "\n",
    "print(''.join(map(str,slist[::-1])))"
   ]
  },
  {
   "cell_type": "markdown",
   "id": "999e383b",
   "metadata": {},
   "source": [
    "## 5.Please write a program that counts and prints the numbers of each character in a string input by the console"
   ]
  },
  {
   "cell_type": "code",
   "execution_count": 29,
   "id": "c47b315d",
   "metadata": {},
   "outputs": [
    {
     "name": "stdout",
     "output_type": "stream",
     "text": [
      "{'e': 2, 'd': 1, 'u': 1, 'r': 1, 'k': 1, 'a': 1}\n",
      "The character e has count of 2 in the list\n",
      "The character d has count of 1 in the list\n",
      "The character u has count of 1 in the list\n",
      "The character r has count of 1 in the list\n",
      "The character k has count of 1 in the list\n",
      "The character a has count of 1 in the list\n"
     ]
    }
   ],
   "source": [
    "s='edureka'\n",
    "\n",
    "slist={}\n",
    "for i in s:\n",
    "    if i in slist:\n",
    "        slist[i]+=1\n",
    "    else:\n",
    "        slist[i]=1        \n",
    "\n",
    "print(slist)\n",
    "\n",
    "for k,v in slist.items():\n",
    "    print(f\"The character {k} has count of {v} in the list\")\n"
   ]
  }
 ],
 "metadata": {
  "kernelspec": {
   "display_name": "Python 3 (ipykernel)",
   "language": "python",
   "name": "python3"
  },
  "language_info": {
   "codemirror_mode": {
    "name": "ipython",
    "version": 3
   },
   "file_extension": ".py",
   "mimetype": "text/x-python",
   "name": "python",
   "nbconvert_exporter": "python",
   "pygments_lexer": "ipython3",
   "version": "3.11.5"
  }
 },
 "nbformat": 4,
 "nbformat_minor": 5
}
