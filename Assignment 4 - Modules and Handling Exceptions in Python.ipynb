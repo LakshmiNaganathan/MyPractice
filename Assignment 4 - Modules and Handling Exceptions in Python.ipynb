{
 "cells": [
  {
   "cell_type": "markdown",
   "id": "bc9dbf8c",
   "metadata": {},
   "source": [
    "## 1.A Robot moves in a Plane starting from the origin point (0,0). The robot can move UP, DOWN, LEFT, and RIGHT. The trace of Robot movement is as given following:UP 5DOWN 3LEFT 3RIGHT 2(The numbers after directions are steps)  Write a program to compute the current distance from the origin point after sequencing of movements.Hint:Use the math module."
   ]
  },
  {
   "cell_type": "code",
   "execution_count": 1,
   "id": "6d176631",
   "metadata": {},
   "outputs": [
    {
     "name": "stdout",
     "output_type": "stream",
     "text": [
      "Distance from origin: 2.23606797749979\n"
     ]
    }
   ],
   "source": [
    "import math\n",
    "\n",
    "x = 0\n",
    "y = 0\n",
    "\n",
    "moves = [(\"UP\", 5), (\"DOWN\", 3), (\"LEFT\", 3), (\"RIGHT\", 2)]\n",
    "\n",
    "for move, steps in moves:\n",
    "    if move == \"UP\":\n",
    "        y += steps\n",
    "    elif move == \"DOWN\":\n",
    "        y -= steps\n",
    "    elif move == \"LEFT\":\n",
    "        x -= steps\n",
    "    elif move == \"RIGHT\":\n",
    "        x += steps\n",
    "\n",
    "distance = math.sqrt(x**2 + y**2)\n",
    "print(\"Distance from origin:\", distance)"
   ]
  },
  {
   "cell_type": "markdown",
   "id": "d8d52f80",
   "metadata": {},
   "source": [
    "## 2. Data of XYZ company is stored in a sorted list. Write a program to search for specific data from that list.Hint: Use if/elif to deal with conditions."
   ]
  },
  {
   "cell_type": "code",
   "execution_count": 2,
   "id": "6990345d",
   "metadata": {},
   "outputs": [
    {
     "name": "stdout",
     "output_type": "stream",
     "text": [
      "Data found at index: 5\n"
     ]
    }
   ],
   "source": [
    "data_list = [2, 4, 6, 8, 10, 12, 14, 16, 18, 20]\n",
    "\n",
    "def search_data(datalist, searchterm):\n",
    "    if searchterm in datalist:\n",
    "        print(\"Data found at index:\", datalist.index(searchterm))\n",
    "    else:\n",
    "        print(\"Data not found\")\n",
    "\n",
    "search_data(data_list, 12)"
   ]
  },
  {
   "cell_type": "markdown",
   "id": "40232b31",
   "metadata": {},
   "source": [
    "## 3. A weather forecasting organization wants to show whether it is day or night. Write a program to find whether is it dark outside or not based on the local system time.Hint: Use the time module."
   ]
  },
  {
   "cell_type": "code",
   "execution_count": 8,
   "id": "f9c407a2",
   "metadata": {},
   "outputs": [
    {
     "name": "stdout",
     "output_type": "stream",
     "text": [
      "It is dark outside.\n"
     ]
    }
   ],
   "source": [
    "import time\n",
    "if time.localtime().tm_hour >= 18:\n",
    "    print(\"It is dark outside.\")\n",
    "else:\n",
    "    print(\"It is still day so not dark outside.\")"
   ]
  },
  {
   "cell_type": "markdown",
   "id": "c45ed376",
   "metadata": {},
   "source": [
    "## 4. Write a program to find the distance between two locations when their latitude and longitudes are given.Hint: Use the math module."
   ]
  },
  {
   "cell_type": "code",
   "execution_count": 10,
   "id": "87da2908",
   "metadata": {},
   "outputs": [
    {
     "name": "stdout",
     "output_type": "stream",
     "text": [
      "Input coordinates of two points:\n",
      "Location 1 latitude: 52.5200\n",
      "Location 1 longitude: 13.4050\n",
      "Location 2 latitude: 40.7128\n",
      "Location 2 longitude: -74.0060\n",
      "The distance is 6385.01km.\n"
     ]
    }
   ],
   "source": [
    "from math import radians, sin, cos, acos\n",
    " \n",
    "print(\"Input coordinates of two points:\")\n",
    "mlat = radians(float(input(\"Location 1 latitude: \")))\n",
    "mlon = radians(float(input(\"Location 1 longitude: \")))\n",
    "plat = radians(float(input(\"Location 2 latitude: \")))\n",
    "plon = radians(float(input(\"Location 2 longitude: \")))\n",
    " \n",
    "dist = 6371.01 * acos(sin(mlat)*sin(plat) + cos(mlat)*cos(plat)*cos(mlon - plon))\n",
    "print(\"The distance is %.2fkm.\" % dist)"
   ]
  },
  {
   "cell_type": "markdown",
   "id": "e0cea50a",
   "metadata": {},
   "source": [
    "## 5. Design a banking system software with options like cash withdrawal, cash credit, and change password. The software must display appropriate results based on user inputs. Hint: Use if else statements and functions."
   ]
  },
  {
   "cell_type": "code",
   "execution_count": 14,
   "id": "4729c6aa",
   "metadata": {},
   "outputs": [
    {
     "name": "stdout",
     "output_type": "stream",
     "text": [
      "Initial balance: 10000\n",
      "Amount withdrawn: 500 Balance: 9500\n",
      "Amount deposited successfully: 2500 Now balance is  12000\n",
      "Password changed successfully.\n"
     ]
    }
   ],
   "source": [
    "class bankAccount:\n",
    "    def __init__(self,balance):\n",
    "        self.balance=balance\n",
    "        print(\"Initial balance:\",self.balance)\n",
    "        \n",
    "    def withdrawal(self,amount):\n",
    "        if amount <= self.balance:\n",
    "            self.balance -= amount\n",
    "            print(\"Amount withdrawn:\",amount,\"Balance:\",self.balance)\n",
    "        else:\n",
    "            print(\"Not enough balance to withdraw\")\n",
    "            \n",
    "    def deposit(self,amount):\n",
    "        self.balance+=amount\n",
    "        print(\"Amount deposited successfully:\",amount,\"Now balance is \",self.balance)\n",
    "        \n",
    "    def change_password(self,pwd):\n",
    "        print(\"Password changed successfully.\")\n",
    "        \n",
    "bankobj=bankAccount(10000)\n",
    "bankobj.withdrawal(500)\n",
    "bankobj.deposit(2500)\n",
    "bankobj.change_password(\"*12345$\")\n",
    "        "
   ]
  },
  {
   "cell_type": "markdown",
   "id": "d46ad78b",
   "metadata": {},
   "source": [
    "## 6. Write a prograthatch will find all numbers which are divisible by 7 but are not a multiple of 5, between 2,000 and 3,200 (both included). The numbers obtained should be printed in a comma-separated sequence on a single line."
   ]
  },
  {
   "cell_type": "code",
   "execution_count": 24,
   "id": "7fa7acc0",
   "metadata": {},
   "outputs": [
    {
     "name": "stdout",
     "output_type": "stream",
     "text": [
      "2002,2009,2016,2023,2037,2044,2051,2058,2072,2079,2086,2093,2107,2114,2121,2128,2142,2149,2156,2163,2177,2184,2191,2198,2212,2219,2226,2233,2247,2254,2261,2268,2282,2289,2296,2303,2317,2324,2331,2338,2352,2359,2366,2373,2387,2394,2401,2408,2422,2429,2436,2443,2457,2464,2471,2478,2492,2499,2506,2513,2527,2534,2541,2548,2562,2569,2576,2583,2597,2604,2611,2618,2632,2639,2646,2653,2667,2674,2681,2688,2702,2709,2716,2723,2737,2744,2751,2758,2772,2779,2786,2793,2807,2814,2821,2828,2842,2849,2856,2863,2877,2884,2891,2898,2912,2919,2926,2933,2947,2954,2961,2968,2982,2989,2996,3003,3017,3024,3031,3038,3052,3059,3066,3073,3087,3094,3101,3108,3122,3129,3136,3143,3157,3164,3171,3178,3192,3199\n"
     ]
    }
   ],
   "source": [
    "final_list=[]\n",
    "\n",
    "for num in range(2000,3201):\n",
    "    if num%7==0 and num%5!=0:\n",
    "        final_list.append(str(num))\n",
    "        \n",
    "print(\",\".join(final_list))"
   ]
  },
  {
   "cell_type": "markdown",
   "id": "8bf20e9d",
   "metadata": {},
   "source": [
    "## 7. Write a prograthatch that can compute the factorial of given numbers. Use recursion to find it."
   ]
  },
  {
   "cell_type": "code",
   "execution_count": 25,
   "id": "9158e88b",
   "metadata": {},
   "outputs": [
    {
     "name": "stdout",
     "output_type": "stream",
     "text": [
      "Enter a number to compute its factorial: 12\n",
      "Factorial of 12 is 479001600\n"
     ]
    }
   ],
   "source": [
    "def factorial(n):\n",
    "    if n == 0:\n",
    "        return 1\n",
    "    else:\n",
    "        return n * factorial(n - 1)\n",
    "    \n",
    "number = int(input(\"Enter a number to compute its factorial: \"))\n",
    "print(\"Factorial of\", number, \"is\", factorial(number))"
   ]
  },
  {
   "cell_type": "markdown",
   "id": "c84ca160",
   "metadata": {},
   "source": [
    "## 8. Write a program that calculates and prints the value according to the given formula:Q = Square root of [(2 * C * D)/H] Following are the fixed values of C and H: C is 50. H is 30. D is the variable whose values should be input to your program in a comma-separated sequence. Example: Let us assume the following comma-separated input sequence is given to the program:100,150,180.The output of the program should be:18,22,24"
   ]
  },
  {
   "cell_type": "code",
   "execution_count": null,
   "id": "d5f4c0ed",
   "metadata": {},
   "outputs": [],
   "source": []
  }
 ],
 "metadata": {
  "kernelspec": {
   "display_name": "Python 3 (ipykernel)",
   "language": "python",
   "name": "python3"
  },
  "language_info": {
   "codemirror_mode": {
    "name": "ipython",
    "version": 3
   },
   "file_extension": ".py",
   "mimetype": "text/x-python",
   "name": "python",
   "nbconvert_exporter": "python",
   "pygments_lexer": "ipython3",
   "version": "3.11.5"
  }
 },
 "nbformat": 4,
 "nbformat_minor": 5
}
